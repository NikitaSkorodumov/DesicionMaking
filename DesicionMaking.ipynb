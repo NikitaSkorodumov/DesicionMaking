{
 "cells": [
  {
   "cell_type": "markdown",
   "id": "e5fb7cee",
   "metadata": {
    "ExecuteTime": {
     "end_time": "2021-12-22T09:55:05.856418Z",
     "start_time": "2021-12-22T09:55:05.184955Z"
    }
   },
   "source": [
    "# 1 Импорт"
   ]
  },
  {
   "cell_type": "code",
   "execution_count": 2,
   "id": "e4b80426",
   "metadata": {
    "ExecuteTime": {
     "end_time": "2021-12-23T12:21:15.225741Z",
     "start_time": "2021-12-23T12:21:14.662675Z"
    }
   },
   "outputs": [],
   "source": [
    "import pandas as pd"
   ]
  },
  {
   "cell_type": "markdown",
   "id": "065ccbb4",
   "metadata": {},
   "source": [
    "# 2 Функции"
   ]
  },
  {
   "cell_type": "code",
   "execution_count": 3,
   "id": "79338f99",
   "metadata": {
    "ExecuteTime": {
     "end_time": "2021-12-23T12:21:15.537402Z",
     "start_time": "2021-12-23T12:21:15.519450Z"
    }
   },
   "outputs": [],
   "source": [
    "def convert_str_to_float(x):\n",
    "    return int(x[0])/int(x[2]) if len(x) == 3 else int(x)"
   ]
  },
  {
   "cell_type": "code",
   "execution_count": 4,
   "id": "8a44032e",
   "metadata": {
    "ExecuteTime": {
     "end_time": "2021-12-23T12:21:15.896591Z",
     "start_time": "2021-12-23T12:21:15.885622Z"
    }
   },
   "outputs": [],
   "source": [
    "def computation_eigen_values(df):\n",
    "    df = df.applymap(convert_str_to_float)\n",
    "    df['eigen_values'] = (df['Работа 1'] * df['Работа 2'] * df['Работа 3'] * df['Работа 4'] * df['Работа 5'] * df['Работа 6'])**(1/6) \n",
    "    df['normal_eigen'] = df['eigen_values'] / df['eigen_values'].sum()                  \n",
    "    return df"
   ]
  },
  {
   "cell_type": "code",
   "execution_count": 5,
   "id": "0b86fa11",
   "metadata": {
    "ExecuteTime": {
     "end_time": "2021-12-23T12:21:16.300947Z",
     "start_time": "2021-12-23T12:21:16.285987Z"
    }
   },
   "outputs": [],
   "source": [
    "def computation_eigen_values_crit(df):\n",
    "    df = df.applymap(convert_str_to_float)\n",
    "    df['eigen_values'] = (df['Местоположение'] * df['Заработная плата'] * df['Коллеги'] * df['Рост карьеры'] * df['Престиж'])**(1/5) \n",
    "    df['normal_eigen'] = df['eigen_values'] / df['eigen_values'].sum()                  \n",
    "    return df"
   ]
  },
  {
   "cell_type": "code",
   "execution_count": 6,
   "id": "624542d8",
   "metadata": {
    "ExecuteTime": {
     "end_time": "2021-12-23T12:21:16.752768Z",
     "start_time": "2021-12-23T12:21:16.736811Z"
    }
   },
   "outputs": [],
   "source": [
    "def check_consistency(df):\n",
    "    df['consistency'] = df[df.columns[0:6]].sum() * df['normal_eigen']\n",
    "    index_consistency = df['consistency'].sum()\n",
    "    index_consistency = (index_consistency - 6)/(6 - 1)\n",
    "    return df, index_consistency"
   ]
  },
  {
   "cell_type": "code",
   "execution_count": 54,
   "id": "e00b3f55",
   "metadata": {
    "ExecuteTime": {
     "end_time": "2021-12-23T12:26:19.851075Z",
     "start_time": "2021-12-23T12:26:19.837105Z"
    }
   },
   "outputs": [],
   "source": [
    "def weight_calculation(df):\n",
    "    weights = []\n",
    "    for i in range(0, 6):\n",
    "        weight = (df_pr.iloc[i, 7] * df.iloc[4, 6]) + (df_zp.iloc[i, 7] * df.iloc[1, 6]) + (df_mp.iloc[i, 7] * df.iloc[0, 6]) + (df_kol.iloc[i, 7] * df.iloc[2, 6]) + (df_rk.iloc[i, 7] * df.iloc[3, 6])\n",
    "        weights.append(weight)\n",
    "    df_weights = pd.DataFrame(weights, index=['w1', 'w2', 'w3', 'w4', 'w5', 'w6'])\n",
    "    return df_weights"
   ]
  },
  {
   "cell_type": "code",
   "execution_count": 78,
   "id": "f2f9e08e",
   "metadata": {
    "ExecuteTime": {
     "end_time": "2021-12-23T12:35:40.928300Z",
     "start_time": "2021-12-23T12:35:40.909354Z"
    }
   },
   "outputs": [],
   "source": [
    "def weight_calculation_min(df):\n",
    "    weights = []\n",
    "    for i in range(0, 6):\n",
    "        pr = (df_pr.iloc[i, 7] * df.iloc[4, 6])  \n",
    "        zp = (df_zp.iloc[i, 7] * df.iloc[1, 6])  \n",
    "        mp = (df_mp.iloc[i, 7] * df.iloc[0, 6])  \n",
    "        kol = (df_kol.iloc[i, 7] * df.iloc[2, 6])  \n",
    "        rk = (df_rk.iloc[i, 7] * df.iloc[3, 6])\n",
    "        weight = [pr, zp, mp, kol, rk]\n",
    "        weights.append(min(weight))\n",
    "    df_weights = pd.DataFrame(weights, index=['w1', 'w2', 'w3', 'w4', 'w5', 'w6'])\n",
    "    return df_weights"
   ]
  },
  {
   "cell_type": "code",
   "execution_count": 70,
   "id": "9bd3de6b",
   "metadata": {
    "ExecuteTime": {
     "end_time": "2021-12-23T12:28:26.901867Z",
     "start_time": "2021-12-23T12:28:26.896881Z"
    }
   },
   "outputs": [],
   "source": [
    "def maximum_expected_utility(df):\n",
    "    works = []\n",
    "    for i in range(0, 6):\n",
    "        work = (df.iloc[i, 0] * 0.5) + (df.iloc[i, 1] * 0.2) + (df.iloc[i, 2] * 0.3)\n",
    "        works.append(work)\n",
    "    works = pd.DataFrame(works, index=['w1', 'w2', 'w3', 'w4', 'w5', 'w6'])\n",
    "    return works"
   ]
  },
  {
   "cell_type": "code",
   "execution_count": 9,
   "id": "585b6012",
   "metadata": {
    "ExecuteTime": {
     "end_time": "2021-12-23T12:21:18.363679Z",
     "start_time": "2021-12-23T12:21:18.349717Z"
    }
   },
   "outputs": [],
   "source": [
    "def wald_criterion(df):\n",
    "    df = df.T\n",
    "    mins = []\n",
    "    for i in range(0, 6):\n",
    "        mins.append(df[df.columns[i]].min())\n",
    "    return mins"
   ]
  },
  {
   "cell_type": "markdown",
   "id": "d4e93cc6",
   "metadata": {},
   "source": [
    "# 3 Создание матрицы попарных сравнений"
   ]
  },
  {
   "cell_type": "markdown",
   "id": "76231181",
   "metadata": {},
   "source": [
    "## 3.1 Престиж"
   ]
  },
  {
   "cell_type": "code",
   "execution_count": 34,
   "id": "2a228fc5",
   "metadata": {
    "ExecuteTime": {
     "end_time": "2021-12-23T12:24:45.227126Z",
     "start_time": "2021-12-23T12:24:45.204194Z"
    }
   },
   "outputs": [
    {
     "data": {
      "text/html": [
       "<div>\n",
       "<style scoped>\n",
       "    .dataframe tbody tr th:only-of-type {\n",
       "        vertical-align: middle;\n",
       "    }\n",
       "\n",
       "    .dataframe tbody tr th {\n",
       "        vertical-align: top;\n",
       "    }\n",
       "\n",
       "    .dataframe thead th {\n",
       "        text-align: right;\n",
       "    }\n",
       "</style>\n",
       "<table border=\"1\" class=\"dataframe\">\n",
       "  <thead>\n",
       "    <tr style=\"text-align: right;\">\n",
       "      <th></th>\n",
       "      <th>Работа 1</th>\n",
       "      <th>Работа 2</th>\n",
       "      <th>Работа 3</th>\n",
       "      <th>Работа 4</th>\n",
       "      <th>Работа 5</th>\n",
       "      <th>Работа 6</th>\n",
       "    </tr>\n",
       "  </thead>\n",
       "  <tbody>\n",
       "    <tr>\n",
       "      <th>Работа 1</th>\n",
       "      <td>1</td>\n",
       "      <td>8/1</td>\n",
       "      <td>2/1</td>\n",
       "      <td>5/1</td>\n",
       "      <td>6/1</td>\n",
       "      <td>9/1</td>\n",
       "    </tr>\n",
       "    <tr>\n",
       "      <th>Работа 2</th>\n",
       "      <td>1/8</td>\n",
       "      <td>1</td>\n",
       "      <td>1/6</td>\n",
       "      <td>1/3</td>\n",
       "      <td>1/2</td>\n",
       "      <td>2/1</td>\n",
       "    </tr>\n",
       "    <tr>\n",
       "      <th>Работа 3</th>\n",
       "      <td>1/2</td>\n",
       "      <td>6/1</td>\n",
       "      <td>1</td>\n",
       "      <td>3/1</td>\n",
       "      <td>4/1</td>\n",
       "      <td>7/1</td>\n",
       "    </tr>\n",
       "    <tr>\n",
       "      <th>Работа 4</th>\n",
       "      <td>1/5</td>\n",
       "      <td>3/1</td>\n",
       "      <td>1/3</td>\n",
       "      <td>1</td>\n",
       "      <td>2/1</td>\n",
       "      <td>4/1</td>\n",
       "    </tr>\n",
       "    <tr>\n",
       "      <th>Работа 5</th>\n",
       "      <td>1/6</td>\n",
       "      <td>2/1</td>\n",
       "      <td>1/4</td>\n",
       "      <td>1/2</td>\n",
       "      <td>1</td>\n",
       "      <td>3/1</td>\n",
       "    </tr>\n",
       "    <tr>\n",
       "      <th>Работа 6</th>\n",
       "      <td>1/9</td>\n",
       "      <td>1/2</td>\n",
       "      <td>1/7</td>\n",
       "      <td>1/4</td>\n",
       "      <td>1/3</td>\n",
       "      <td>1</td>\n",
       "    </tr>\n",
       "  </tbody>\n",
       "</table>\n",
       "</div>"
      ],
      "text/plain": [
       "         Работа 1 Работа 2 Работа 3 Работа 4 Работа 5 Работа 6\n",
       "Работа 1        1      8/1      2/1      5/1      6/1      9/1\n",
       "Работа 2      1/8        1      1/6      1/3      1/2      2/1\n",
       "Работа 3      1/2      6/1        1      3/1      4/1      7/1\n",
       "Работа 4      1/5      3/1      1/3        1      2/1      4/1\n",
       "Работа 5      1/6      2/1      1/4      1/2        1      3/1\n",
       "Работа 6      1/9      1/2      1/7      1/4      1/3        1"
      ]
     },
     "execution_count": 34,
     "metadata": {},
     "output_type": "execute_result"
    }
   ],
   "source": [
    "alternatives = ['Работа ' + str(x) for x in range(1, 7)]\n",
    "values = [['1', '8/1', '2/1', '5/1', '6/1', '9/1'],\n",
    "          ['1/8', '1', '1/6', '1/3', '1/2', '2/1'],\n",
    "          ['1/2', '6/1', '1', '3/1', '4/1', '7/1'],\n",
    "          ['1/5', '3/1', '1/3', '1', '2/1', '4/1'],\n",
    "          ['1/6', '2/1', '1/4', '1/2', '1', '3/1'],\n",
    "          ['1/9', '1/2', '1/7', '1/4', '1/3', '1']]\n",
    "\n",
    "df_pr = pd.DataFrame(values, columns=alternatives, index=alternatives)\n",
    "df_pr"
   ]
  },
  {
   "cell_type": "markdown",
   "id": "778df50b",
   "metadata": {},
   "source": [
    "## 3.2 Заработная плата"
   ]
  },
  {
   "cell_type": "code",
   "execution_count": 35,
   "id": "9f38b8ff",
   "metadata": {
    "ExecuteTime": {
     "end_time": "2021-12-23T12:24:45.988609Z",
     "start_time": "2021-12-23T12:24:45.953666Z"
    }
   },
   "outputs": [
    {
     "data": {
      "text/html": [
       "<div>\n",
       "<style scoped>\n",
       "    .dataframe tbody tr th:only-of-type {\n",
       "        vertical-align: middle;\n",
       "    }\n",
       "\n",
       "    .dataframe tbody tr th {\n",
       "        vertical-align: top;\n",
       "    }\n",
       "\n",
       "    .dataframe thead th {\n",
       "        text-align: right;\n",
       "    }\n",
       "</style>\n",
       "<table border=\"1\" class=\"dataframe\">\n",
       "  <thead>\n",
       "    <tr style=\"text-align: right;\">\n",
       "      <th></th>\n",
       "      <th>Работа 1</th>\n",
       "      <th>Работа 2</th>\n",
       "      <th>Работа 3</th>\n",
       "      <th>Работа 4</th>\n",
       "      <th>Работа 5</th>\n",
       "      <th>Работа 6</th>\n",
       "    </tr>\n",
       "  </thead>\n",
       "  <tbody>\n",
       "    <tr>\n",
       "      <th>Работа 1</th>\n",
       "      <td>1</td>\n",
       "      <td>2/1</td>\n",
       "      <td>2/1</td>\n",
       "      <td>1/2</td>\n",
       "      <td>3/1</td>\n",
       "      <td>4/1</td>\n",
       "    </tr>\n",
       "    <tr>\n",
       "      <th>Работа 2</th>\n",
       "      <td>1/2</td>\n",
       "      <td>1</td>\n",
       "      <td>2/1</td>\n",
       "      <td>1/3</td>\n",
       "      <td>2/1</td>\n",
       "      <td>2/1</td>\n",
       "    </tr>\n",
       "    <tr>\n",
       "      <th>Работа 3</th>\n",
       "      <td>1/2</td>\n",
       "      <td>1/2</td>\n",
       "      <td>1</td>\n",
       "      <td>1/2</td>\n",
       "      <td>2/1</td>\n",
       "      <td>3/1</td>\n",
       "    </tr>\n",
       "    <tr>\n",
       "      <th>Работа 4</th>\n",
       "      <td>2/1</td>\n",
       "      <td>3/1</td>\n",
       "      <td>2/1</td>\n",
       "      <td>1</td>\n",
       "      <td>4/1</td>\n",
       "      <td>5/1</td>\n",
       "    </tr>\n",
       "    <tr>\n",
       "      <th>Работа 5</th>\n",
       "      <td>1/3</td>\n",
       "      <td>1/2</td>\n",
       "      <td>1/2</td>\n",
       "      <td>1/4</td>\n",
       "      <td>1</td>\n",
       "      <td>2/1</td>\n",
       "    </tr>\n",
       "    <tr>\n",
       "      <th>Работа 6</th>\n",
       "      <td>1/4</td>\n",
       "      <td>1/2</td>\n",
       "      <td>1/3</td>\n",
       "      <td>1/5</td>\n",
       "      <td>1/2</td>\n",
       "      <td>1</td>\n",
       "    </tr>\n",
       "  </tbody>\n",
       "</table>\n",
       "</div>"
      ],
      "text/plain": [
       "         Работа 1 Работа 2 Работа 3 Работа 4 Работа 5 Работа 6\n",
       "Работа 1        1      2/1      2/1      1/2      3/1      4/1\n",
       "Работа 2      1/2        1      2/1      1/3      2/1      2/1\n",
       "Работа 3      1/2      1/2        1      1/2      2/1      3/1\n",
       "Работа 4      2/1      3/1      2/1        1      4/1      5/1\n",
       "Работа 5      1/3      1/2      1/2      1/4        1      2/1\n",
       "Работа 6      1/4      1/2      1/3      1/5      1/2        1"
      ]
     },
     "execution_count": 35,
     "metadata": {},
     "output_type": "execute_result"
    }
   ],
   "source": [
    "alternatives = ['Работа ' + str(x) for x in range(1, 7)]\n",
    "values = [['1', '2/1', '2/1', '1/2', '3/1', '4/1'],\n",
    "          ['1/2', '1', '2/1', '1/3', '2/1', '2/1'],\n",
    "          ['1/2', '1/2', '1', '1/2', '2/1', '3/1'],\n",
    "          ['2/1', '3/1', '2/1', '1', '4/1', '5/1'],\n",
    "          ['1/3', '1/2', '1/2', '1/4', '1', '2/1'],\n",
    "          ['1/4', '1/2', '1/3', '1/5', '1/2', '1']]\n",
    "\n",
    "df_zp = pd.DataFrame(values, columns=alternatives, index=alternatives)\n",
    "df_zp"
   ]
  },
  {
   "cell_type": "markdown",
   "id": "9b669786",
   "metadata": {},
   "source": [
    "## 3.3 Местоположение"
   ]
  },
  {
   "cell_type": "code",
   "execution_count": 36,
   "id": "d7a5f3d3",
   "metadata": {
    "ExecuteTime": {
     "end_time": "2021-12-23T12:24:46.705501Z",
     "start_time": "2021-12-23T12:24:46.685557Z"
    }
   },
   "outputs": [
    {
     "data": {
      "text/html": [
       "<div>\n",
       "<style scoped>\n",
       "    .dataframe tbody tr th:only-of-type {\n",
       "        vertical-align: middle;\n",
       "    }\n",
       "\n",
       "    .dataframe tbody tr th {\n",
       "        vertical-align: top;\n",
       "    }\n",
       "\n",
       "    .dataframe thead th {\n",
       "        text-align: right;\n",
       "    }\n",
       "</style>\n",
       "<table border=\"1\" class=\"dataframe\">\n",
       "  <thead>\n",
       "    <tr style=\"text-align: right;\">\n",
       "      <th></th>\n",
       "      <th>Работа 1</th>\n",
       "      <th>Работа 2</th>\n",
       "      <th>Работа 3</th>\n",
       "      <th>Работа 4</th>\n",
       "      <th>Работа 5</th>\n",
       "      <th>Работа 6</th>\n",
       "    </tr>\n",
       "  </thead>\n",
       "  <tbody>\n",
       "    <tr>\n",
       "      <th>Работа 1</th>\n",
       "      <td>1</td>\n",
       "      <td>2/1</td>\n",
       "      <td>5/1</td>\n",
       "      <td>4/1</td>\n",
       "      <td>2/1</td>\n",
       "      <td>3/1</td>\n",
       "    </tr>\n",
       "    <tr>\n",
       "      <th>Работа 2</th>\n",
       "      <td>1/2</td>\n",
       "      <td>1</td>\n",
       "      <td>4/1</td>\n",
       "      <td>3/1</td>\n",
       "      <td>2/1</td>\n",
       "      <td>2/1</td>\n",
       "    </tr>\n",
       "    <tr>\n",
       "      <th>Работа 3</th>\n",
       "      <td>1/5</td>\n",
       "      <td>1/4</td>\n",
       "      <td>1</td>\n",
       "      <td>1/2</td>\n",
       "      <td>1/3</td>\n",
       "      <td>1/2</td>\n",
       "    </tr>\n",
       "    <tr>\n",
       "      <th>Работа 4</th>\n",
       "      <td>1/4</td>\n",
       "      <td>1/3</td>\n",
       "      <td>2/1</td>\n",
       "      <td>1</td>\n",
       "      <td>1/2</td>\n",
       "      <td>1/2</td>\n",
       "    </tr>\n",
       "    <tr>\n",
       "      <th>Работа 5</th>\n",
       "      <td>1/2</td>\n",
       "      <td>1/2</td>\n",
       "      <td>3/1</td>\n",
       "      <td>2/1</td>\n",
       "      <td>1</td>\n",
       "      <td>2/1</td>\n",
       "    </tr>\n",
       "    <tr>\n",
       "      <th>Работа 6</th>\n",
       "      <td>1/3</td>\n",
       "      <td>1/2</td>\n",
       "      <td>2/1</td>\n",
       "      <td>2/1</td>\n",
       "      <td>1/2</td>\n",
       "      <td>1</td>\n",
       "    </tr>\n",
       "  </tbody>\n",
       "</table>\n",
       "</div>"
      ],
      "text/plain": [
       "         Работа 1 Работа 2 Работа 3 Работа 4 Работа 5 Работа 6\n",
       "Работа 1        1      2/1      5/1      4/1      2/1      3/1\n",
       "Работа 2      1/2        1      4/1      3/1      2/1      2/1\n",
       "Работа 3      1/5      1/4        1      1/2      1/3      1/2\n",
       "Работа 4      1/4      1/3      2/1        1      1/2      1/2\n",
       "Работа 5      1/2      1/2      3/1      2/1        1      2/1\n",
       "Работа 6      1/3      1/2      2/1      2/1      1/2        1"
      ]
     },
     "execution_count": 36,
     "metadata": {},
     "output_type": "execute_result"
    }
   ],
   "source": [
    "alternatives = ['Работа ' + str(x) for x in range(1, 7)]\n",
    "values = [['1', '2/1', '5/1', '4/1', '2/1', '3/1'],\n",
    "          ['1/2', '1', '4/1', '3/1', '2/1', '2/1'],\n",
    "          ['1/5', '1/4', '1', '1/2', '1/3', '1/2'],\n",
    "          ['1/4', '1/3', '2/1', '1', '1/2', '1/2'],\n",
    "          ['1/2', '1/2', '3/1', '2/1', '1', '2/1'],\n",
    "          ['1/3', '1/2', '2/1', '2/1', '1/2', '1']]\n",
    "\n",
    "df_mp = pd.DataFrame(values, columns=alternatives, index=alternatives)\n",
    "df_mp"
   ]
  },
  {
   "cell_type": "markdown",
   "id": "43216d91",
   "metadata": {},
   "source": [
    "## 3.4 Коллеги"
   ]
  },
  {
   "cell_type": "code",
   "execution_count": 37,
   "id": "49ab92a3",
   "metadata": {
    "ExecuteTime": {
     "end_time": "2021-12-23T12:24:47.421487Z",
     "start_time": "2021-12-23T12:24:47.393563Z"
    }
   },
   "outputs": [
    {
     "data": {
      "text/html": [
       "<div>\n",
       "<style scoped>\n",
       "    .dataframe tbody tr th:only-of-type {\n",
       "        vertical-align: middle;\n",
       "    }\n",
       "\n",
       "    .dataframe tbody tr th {\n",
       "        vertical-align: top;\n",
       "    }\n",
       "\n",
       "    .dataframe thead th {\n",
       "        text-align: right;\n",
       "    }\n",
       "</style>\n",
       "<table border=\"1\" class=\"dataframe\">\n",
       "  <thead>\n",
       "    <tr style=\"text-align: right;\">\n",
       "      <th></th>\n",
       "      <th>Работа 1</th>\n",
       "      <th>Работа 2</th>\n",
       "      <th>Работа 3</th>\n",
       "      <th>Работа 4</th>\n",
       "      <th>Работа 5</th>\n",
       "      <th>Работа 6</th>\n",
       "    </tr>\n",
       "  </thead>\n",
       "  <tbody>\n",
       "    <tr>\n",
       "      <th>Работа 1</th>\n",
       "      <td>1</td>\n",
       "      <td>1/3</td>\n",
       "      <td>2/1</td>\n",
       "      <td>1/2</td>\n",
       "      <td>2/1</td>\n",
       "      <td>1/3</td>\n",
       "    </tr>\n",
       "    <tr>\n",
       "      <th>Работа 2</th>\n",
       "      <td>3/1</td>\n",
       "      <td>1</td>\n",
       "      <td>4/1</td>\n",
       "      <td>2/1</td>\n",
       "      <td>5/1</td>\n",
       "      <td>2/1</td>\n",
       "    </tr>\n",
       "    <tr>\n",
       "      <th>Работа 3</th>\n",
       "      <td>1/2</td>\n",
       "      <td>1/4</td>\n",
       "      <td>1</td>\n",
       "      <td>1/2</td>\n",
       "      <td>2/1</td>\n",
       "      <td>1/3</td>\n",
       "    </tr>\n",
       "    <tr>\n",
       "      <th>Работа 4</th>\n",
       "      <td>2/1</td>\n",
       "      <td>1/2</td>\n",
       "      <td>2/1</td>\n",
       "      <td>1</td>\n",
       "      <td>3/1</td>\n",
       "      <td>2/1</td>\n",
       "    </tr>\n",
       "    <tr>\n",
       "      <th>Работа 5</th>\n",
       "      <td>1/2</td>\n",
       "      <td>1/5</td>\n",
       "      <td>1/2</td>\n",
       "      <td>1/3</td>\n",
       "      <td>1</td>\n",
       "      <td>1/4</td>\n",
       "    </tr>\n",
       "    <tr>\n",
       "      <th>Работа 6</th>\n",
       "      <td>3/1</td>\n",
       "      <td>1/2</td>\n",
       "      <td>3/1</td>\n",
       "      <td>1/2</td>\n",
       "      <td>4/1</td>\n",
       "      <td>1</td>\n",
       "    </tr>\n",
       "  </tbody>\n",
       "</table>\n",
       "</div>"
      ],
      "text/plain": [
       "         Работа 1 Работа 2 Работа 3 Работа 4 Работа 5 Работа 6\n",
       "Работа 1        1      1/3      2/1      1/2      2/1      1/3\n",
       "Работа 2      3/1        1      4/1      2/1      5/1      2/1\n",
       "Работа 3      1/2      1/4        1      1/2      2/1      1/3\n",
       "Работа 4      2/1      1/2      2/1        1      3/1      2/1\n",
       "Работа 5      1/2      1/5      1/2      1/3        1      1/4\n",
       "Работа 6      3/1      1/2      3/1      1/2      4/1        1"
      ]
     },
     "execution_count": 37,
     "metadata": {},
     "output_type": "execute_result"
    }
   ],
   "source": [
    "alternatives = ['Работа ' + str(x) for x in range(1, 7)]\n",
    "values = [['1', '1/3', '2/1', '1/2', '2/1', '1/3'],\n",
    "          ['3/1', '1', '4/1', '2/1', '5/1', '2/1'],\n",
    "          ['1/2', '1/4', '1', '1/2', '2/1', '1/3'],\n",
    "          ['2/1', '1/2', '2/1', '1', '3/1', '2/1'],\n",
    "          ['1/2', '1/5', '1/2', '1/3', '1', '1/4'],\n",
    "          ['3/1', '1/2', '3/1', '1/2', '4/1', '1']]\n",
    "\n",
    "df_kol = pd.DataFrame(values, columns=alternatives, index=alternatives)\n",
    "df_kol"
   ]
  },
  {
   "cell_type": "markdown",
   "id": "deac4f2e",
   "metadata": {},
   "source": [
    "## 3.5 Рост карьеры"
   ]
  },
  {
   "cell_type": "code",
   "execution_count": 38,
   "id": "11b19cba",
   "metadata": {
    "ExecuteTime": {
     "end_time": "2021-12-23T12:24:48.155458Z",
     "start_time": "2021-12-23T12:24:48.133517Z"
    }
   },
   "outputs": [
    {
     "data": {
      "text/html": [
       "<div>\n",
       "<style scoped>\n",
       "    .dataframe tbody tr th:only-of-type {\n",
       "        vertical-align: middle;\n",
       "    }\n",
       "\n",
       "    .dataframe tbody tr th {\n",
       "        vertical-align: top;\n",
       "    }\n",
       "\n",
       "    .dataframe thead th {\n",
       "        text-align: right;\n",
       "    }\n",
       "</style>\n",
       "<table border=\"1\" class=\"dataframe\">\n",
       "  <thead>\n",
       "    <tr style=\"text-align: right;\">\n",
       "      <th></th>\n",
       "      <th>Работа 1</th>\n",
       "      <th>Работа 2</th>\n",
       "      <th>Работа 3</th>\n",
       "      <th>Работа 4</th>\n",
       "      <th>Работа 5</th>\n",
       "      <th>Работа 6</th>\n",
       "    </tr>\n",
       "  </thead>\n",
       "  <tbody>\n",
       "    <tr>\n",
       "      <th>Работа 1</th>\n",
       "      <td>1</td>\n",
       "      <td>1/3</td>\n",
       "      <td>2/1</td>\n",
       "      <td>2/1</td>\n",
       "      <td>1/2</td>\n",
       "      <td>2/1</td>\n",
       "    </tr>\n",
       "    <tr>\n",
       "      <th>Работа 2</th>\n",
       "      <td>3/1</td>\n",
       "      <td>1</td>\n",
       "      <td>4/1</td>\n",
       "      <td>5/1</td>\n",
       "      <td>2/1</td>\n",
       "      <td>2/1</td>\n",
       "    </tr>\n",
       "    <tr>\n",
       "      <th>Работа 3</th>\n",
       "      <td>1/2</td>\n",
       "      <td>1/4</td>\n",
       "      <td>1</td>\n",
       "      <td>2/1</td>\n",
       "      <td>1/2</td>\n",
       "      <td>3/1</td>\n",
       "    </tr>\n",
       "    <tr>\n",
       "      <th>Работа 4</th>\n",
       "      <td>1/2</td>\n",
       "      <td>1/5</td>\n",
       "      <td>1/2</td>\n",
       "      <td>1</td>\n",
       "      <td>1/3</td>\n",
       "      <td>1/4</td>\n",
       "    </tr>\n",
       "    <tr>\n",
       "      <th>Работа 5</th>\n",
       "      <td>2/1</td>\n",
       "      <td>1/2</td>\n",
       "      <td>2/1</td>\n",
       "      <td>3/1</td>\n",
       "      <td>1</td>\n",
       "      <td>1/2</td>\n",
       "    </tr>\n",
       "    <tr>\n",
       "      <th>Работа 6</th>\n",
       "      <td>1/2</td>\n",
       "      <td>1/2</td>\n",
       "      <td>1/3</td>\n",
       "      <td>4/1</td>\n",
       "      <td>2/1</td>\n",
       "      <td>1</td>\n",
       "    </tr>\n",
       "  </tbody>\n",
       "</table>\n",
       "</div>"
      ],
      "text/plain": [
       "         Работа 1 Работа 2 Работа 3 Работа 4 Работа 5 Работа 6\n",
       "Работа 1        1      1/3      2/1      2/1      1/2      2/1\n",
       "Работа 2      3/1        1      4/1      5/1      2/1      2/1\n",
       "Работа 3      1/2      1/4        1      2/1      1/2      3/1\n",
       "Работа 4      1/2      1/5      1/2        1      1/3      1/4\n",
       "Работа 5      2/1      1/2      2/1      3/1        1      1/2\n",
       "Работа 6      1/2      1/2      1/3      4/1      2/1        1"
      ]
     },
     "execution_count": 38,
     "metadata": {},
     "output_type": "execute_result"
    }
   ],
   "source": [
    "alternatives = ['Работа ' + str(x) for x in range(1, 7)]\n",
    "values = [['1', '1/3', '2/1', '2/1', '1/2', '2/1'],\n",
    "          ['3/1', '1', '4/1', '5/1', '2/1', '2/1'],\n",
    "          ['1/2', '1/4', '1', '2/1', '1/2', '3/1'],\n",
    "          ['1/2', '1/5', '1/2', '1', '1/3', '1/4'],\n",
    "          ['2/1', '1/2', '2/1', '3/1', '1', '1/2'],\n",
    "          ['1/2', '1/2', '1/3', '4/1', '2/1', '1']]\n",
    "\n",
    "df_rk = pd.DataFrame(values, columns=alternatives, index=alternatives)\n",
    "df_rk"
   ]
  },
  {
   "cell_type": "markdown",
   "id": "853f7513",
   "metadata": {},
   "source": [
    "## 3.6 Общее отношение"
   ]
  },
  {
   "cell_type": "code",
   "execution_count": 39,
   "id": "45b0d173",
   "metadata": {
    "ExecuteTime": {
     "end_time": "2021-12-23T12:24:48.996136Z",
     "start_time": "2021-12-23T12:24:48.971204Z"
    }
   },
   "outputs": [
    {
     "data": {
      "text/html": [
       "<div>\n",
       "<style scoped>\n",
       "    .dataframe tbody tr th:only-of-type {\n",
       "        vertical-align: middle;\n",
       "    }\n",
       "\n",
       "    .dataframe tbody tr th {\n",
       "        vertical-align: top;\n",
       "    }\n",
       "\n",
       "    .dataframe thead th {\n",
       "        text-align: right;\n",
       "    }\n",
       "</style>\n",
       "<table border=\"1\" class=\"dataframe\">\n",
       "  <thead>\n",
       "    <tr style=\"text-align: right;\">\n",
       "      <th></th>\n",
       "      <th>Престиж</th>\n",
       "      <th>Заработная плата</th>\n",
       "      <th>Местоположение</th>\n",
       "      <th>Коллеги</th>\n",
       "      <th>Рост карьеры</th>\n",
       "    </tr>\n",
       "  </thead>\n",
       "  <tbody>\n",
       "    <tr>\n",
       "      <th>Работа 1</th>\n",
       "      <td>10</td>\n",
       "      <td>7</td>\n",
       "      <td>9</td>\n",
       "      <td>5</td>\n",
       "      <td>6</td>\n",
       "    </tr>\n",
       "    <tr>\n",
       "      <th>Работа 2</th>\n",
       "      <td>2</td>\n",
       "      <td>5</td>\n",
       "      <td>8</td>\n",
       "      <td>8</td>\n",
       "      <td>9</td>\n",
       "    </tr>\n",
       "    <tr>\n",
       "      <th>Работа 3</th>\n",
       "      <td>8</td>\n",
       "      <td>6</td>\n",
       "      <td>4</td>\n",
       "      <td>4</td>\n",
       "      <td>5</td>\n",
       "    </tr>\n",
       "    <tr>\n",
       "      <th>Работа 4</th>\n",
       "      <td>5</td>\n",
       "      <td>8</td>\n",
       "      <td>5</td>\n",
       "      <td>6</td>\n",
       "      <td>4</td>\n",
       "    </tr>\n",
       "    <tr>\n",
       "      <th>Работа 5</th>\n",
       "      <td>4</td>\n",
       "      <td>4</td>\n",
       "      <td>7</td>\n",
       "      <td>3</td>\n",
       "      <td>7</td>\n",
       "    </tr>\n",
       "    <tr>\n",
       "      <th>Работа 6</th>\n",
       "      <td>1</td>\n",
       "      <td>3</td>\n",
       "      <td>6</td>\n",
       "      <td>7</td>\n",
       "      <td>8</td>\n",
       "    </tr>\n",
       "  </tbody>\n",
       "</table>\n",
       "</div>"
      ],
      "text/plain": [
       "         Престиж Заработная плата Местоположение Коллеги Рост карьеры\n",
       "Работа 1      10                7              9       5            6\n",
       "Работа 2       2                5              8       8            9\n",
       "Работа 3       8                6              4       4            5\n",
       "Работа 4       5                8              5       6            4\n",
       "Работа 5       4                4              7       3            7\n",
       "Работа 6       1                3              6       7            8"
      ]
     },
     "execution_count": 39,
     "metadata": {},
     "output_type": "execute_result"
    }
   ],
   "source": [
    "values = [['10', '7', '9', '5', '6'],\n",
    "          ['2', '5', '8', '8', '9'],\n",
    "          ['8', '6', '4', '4', '5'],\n",
    "          ['5', '8', '5', '6', '4'],\n",
    "          ['4', '4', '7', '3', '7'],\n",
    "          ['1', '3', '6', '7', '8']]\n",
    "df_exp_as = pd.DataFrame(values, index=alternatives, columns=['Престиж', 'Заработная плата', 'Местоположение', 'Коллеги', 'Рост карьеры'])\n",
    "df_exp_as"
   ]
  },
  {
   "cell_type": "markdown",
   "id": "8f67d64f",
   "metadata": {},
   "source": [
    "# 4 Вычисление собственных значений"
   ]
  },
  {
   "cell_type": "markdown",
   "id": "e9b9faab",
   "metadata": {},
   "source": [
    "## 4.1 Престиж"
   ]
  },
  {
   "cell_type": "code",
   "execution_count": 40,
   "id": "4c63f035",
   "metadata": {
    "ExecuteTime": {
     "end_time": "2021-12-23T12:24:50.587149Z",
     "start_time": "2021-12-23T12:24:50.570230Z"
    }
   },
   "outputs": [
    {
     "data": {
      "text/html": [
       "<div>\n",
       "<style scoped>\n",
       "    .dataframe tbody tr th:only-of-type {\n",
       "        vertical-align: middle;\n",
       "    }\n",
       "\n",
       "    .dataframe tbody tr th {\n",
       "        vertical-align: top;\n",
       "    }\n",
       "\n",
       "    .dataframe thead th {\n",
       "        text-align: right;\n",
       "    }\n",
       "</style>\n",
       "<table border=\"1\" class=\"dataframe\">\n",
       "  <thead>\n",
       "    <tr style=\"text-align: right;\">\n",
       "      <th></th>\n",
       "      <th>Работа 1</th>\n",
       "      <th>Работа 2</th>\n",
       "      <th>Работа 3</th>\n",
       "      <th>Работа 4</th>\n",
       "      <th>Работа 5</th>\n",
       "      <th>Работа 6</th>\n",
       "      <th>eigen_values</th>\n",
       "      <th>normal_eigen</th>\n",
       "    </tr>\n",
       "  </thead>\n",
       "  <tbody>\n",
       "    <tr>\n",
       "      <th>Работа 1</th>\n",
       "      <td>1.000000</td>\n",
       "      <td>8.0</td>\n",
       "      <td>2.000000</td>\n",
       "      <td>5.000000</td>\n",
       "      <td>6.000000</td>\n",
       "      <td>9.0</td>\n",
       "      <td>4.035654</td>\n",
       "      <td>0.444973</td>\n",
       "    </tr>\n",
       "    <tr>\n",
       "      <th>Работа 2</th>\n",
       "      <td>0.125000</td>\n",
       "      <td>1.0</td>\n",
       "      <td>0.166667</td>\n",
       "      <td>0.333333</td>\n",
       "      <td>0.500000</td>\n",
       "      <td>2.0</td>\n",
       "      <td>0.436790</td>\n",
       "      <td>0.048161</td>\n",
       "    </tr>\n",
       "    <tr>\n",
       "      <th>Работа 3</th>\n",
       "      <td>0.500000</td>\n",
       "      <td>6.0</td>\n",
       "      <td>1.000000</td>\n",
       "      <td>3.000000</td>\n",
       "      <td>4.000000</td>\n",
       "      <td>7.0</td>\n",
       "      <td>2.513237</td>\n",
       "      <td>0.277110</td>\n",
       "    </tr>\n",
       "    <tr>\n",
       "      <th>Работа 4</th>\n",
       "      <td>0.200000</td>\n",
       "      <td>3.0</td>\n",
       "      <td>0.333333</td>\n",
       "      <td>1.000000</td>\n",
       "      <td>2.000000</td>\n",
       "      <td>4.0</td>\n",
       "      <td>1.081484</td>\n",
       "      <td>0.119245</td>\n",
       "    </tr>\n",
       "    <tr>\n",
       "      <th>Работа 5</th>\n",
       "      <td>0.166667</td>\n",
       "      <td>2.0</td>\n",
       "      <td>0.250000</td>\n",
       "      <td>0.500000</td>\n",
       "      <td>1.000000</td>\n",
       "      <td>3.0</td>\n",
       "      <td>0.707107</td>\n",
       "      <td>0.077966</td>\n",
       "    </tr>\n",
       "    <tr>\n",
       "      <th>Работа 6</th>\n",
       "      <td>0.111111</td>\n",
       "      <td>0.5</td>\n",
       "      <td>0.142857</td>\n",
       "      <td>0.250000</td>\n",
       "      <td>0.333333</td>\n",
       "      <td>1.0</td>\n",
       "      <td>0.295172</td>\n",
       "      <td>0.032546</td>\n",
       "    </tr>\n",
       "  </tbody>\n",
       "</table>\n",
       "</div>"
      ],
      "text/plain": [
       "          Работа 1  Работа 2  Работа 3  Работа 4  Работа 5  Работа 6  \\\n",
       "Работа 1  1.000000       8.0  2.000000  5.000000  6.000000       9.0   \n",
       "Работа 2  0.125000       1.0  0.166667  0.333333  0.500000       2.0   \n",
       "Работа 3  0.500000       6.0  1.000000  3.000000  4.000000       7.0   \n",
       "Работа 4  0.200000       3.0  0.333333  1.000000  2.000000       4.0   \n",
       "Работа 5  0.166667       2.0  0.250000  0.500000  1.000000       3.0   \n",
       "Работа 6  0.111111       0.5  0.142857  0.250000  0.333333       1.0   \n",
       "\n",
       "          eigen_values  normal_eigen  \n",
       "Работа 1      4.035654      0.444973  \n",
       "Работа 2      0.436790      0.048161  \n",
       "Работа 3      2.513237      0.277110  \n",
       "Работа 4      1.081484      0.119245  \n",
       "Работа 5      0.707107      0.077966  \n",
       "Работа 6      0.295172      0.032546  "
      ]
     },
     "execution_count": 40,
     "metadata": {},
     "output_type": "execute_result"
    }
   ],
   "source": [
    "df_pr = computation_eigen_values(df_pr)\n",
    "df_pr"
   ]
  },
  {
   "cell_type": "markdown",
   "id": "4a9d7597",
   "metadata": {},
   "source": [
    "## 4.2 Заработная плата"
   ]
  },
  {
   "cell_type": "code",
   "execution_count": 41,
   "id": "0055c290",
   "metadata": {
    "ExecuteTime": {
     "end_time": "2021-12-23T12:24:52.066656Z",
     "start_time": "2021-12-23T12:24:52.036727Z"
    }
   },
   "outputs": [
    {
     "data": {
      "text/html": [
       "<div>\n",
       "<style scoped>\n",
       "    .dataframe tbody tr th:only-of-type {\n",
       "        vertical-align: middle;\n",
       "    }\n",
       "\n",
       "    .dataframe tbody tr th {\n",
       "        vertical-align: top;\n",
       "    }\n",
       "\n",
       "    .dataframe thead th {\n",
       "        text-align: right;\n",
       "    }\n",
       "</style>\n",
       "<table border=\"1\" class=\"dataframe\">\n",
       "  <thead>\n",
       "    <tr style=\"text-align: right;\">\n",
       "      <th></th>\n",
       "      <th>Работа 1</th>\n",
       "      <th>Работа 2</th>\n",
       "      <th>Работа 3</th>\n",
       "      <th>Работа 4</th>\n",
       "      <th>Работа 5</th>\n",
       "      <th>Работа 6</th>\n",
       "      <th>eigen_values</th>\n",
       "      <th>normal_eigen</th>\n",
       "    </tr>\n",
       "  </thead>\n",
       "  <tbody>\n",
       "    <tr>\n",
       "      <th>Работа 1</th>\n",
       "      <td>1.000000</td>\n",
       "      <td>2.0</td>\n",
       "      <td>2.000000</td>\n",
       "      <td>0.500000</td>\n",
       "      <td>3.0</td>\n",
       "      <td>4.0</td>\n",
       "      <td>1.698381</td>\n",
       "      <td>0.236428</td>\n",
       "    </tr>\n",
       "    <tr>\n",
       "      <th>Работа 2</th>\n",
       "      <td>0.500000</td>\n",
       "      <td>1.0</td>\n",
       "      <td>2.000000</td>\n",
       "      <td>0.333333</td>\n",
       "      <td>2.0</td>\n",
       "      <td>2.0</td>\n",
       "      <td>1.049115</td>\n",
       "      <td>0.146045</td>\n",
       "    </tr>\n",
       "    <tr>\n",
       "      <th>Работа 3</th>\n",
       "      <td>0.500000</td>\n",
       "      <td>0.5</td>\n",
       "      <td>1.000000</td>\n",
       "      <td>0.500000</td>\n",
       "      <td>2.0</td>\n",
       "      <td>3.0</td>\n",
       "      <td>0.953184</td>\n",
       "      <td>0.132691</td>\n",
       "    </tr>\n",
       "    <tr>\n",
       "      <th>Работа 4</th>\n",
       "      <td>2.000000</td>\n",
       "      <td>3.0</td>\n",
       "      <td>2.000000</td>\n",
       "      <td>1.000000</td>\n",
       "      <td>4.0</td>\n",
       "      <td>5.0</td>\n",
       "      <td>2.492883</td>\n",
       "      <td>0.347029</td>\n",
       "    </tr>\n",
       "    <tr>\n",
       "      <th>Работа 5</th>\n",
       "      <td>0.333333</td>\n",
       "      <td>0.5</td>\n",
       "      <td>0.500000</td>\n",
       "      <td>0.250000</td>\n",
       "      <td>1.0</td>\n",
       "      <td>2.0</td>\n",
       "      <td>0.588796</td>\n",
       "      <td>0.081965</td>\n",
       "    </tr>\n",
       "    <tr>\n",
       "      <th>Работа 6</th>\n",
       "      <td>0.250000</td>\n",
       "      <td>0.5</td>\n",
       "      <td>0.333333</td>\n",
       "      <td>0.200000</td>\n",
       "      <td>0.5</td>\n",
       "      <td>1.0</td>\n",
       "      <td>0.401142</td>\n",
       "      <td>0.055842</td>\n",
       "    </tr>\n",
       "  </tbody>\n",
       "</table>\n",
       "</div>"
      ],
      "text/plain": [
       "          Работа 1  Работа 2  Работа 3  Работа 4  Работа 5  Работа 6  \\\n",
       "Работа 1  1.000000       2.0  2.000000  0.500000       3.0       4.0   \n",
       "Работа 2  0.500000       1.0  2.000000  0.333333       2.0       2.0   \n",
       "Работа 3  0.500000       0.5  1.000000  0.500000       2.0       3.0   \n",
       "Работа 4  2.000000       3.0  2.000000  1.000000       4.0       5.0   \n",
       "Работа 5  0.333333       0.5  0.500000  0.250000       1.0       2.0   \n",
       "Работа 6  0.250000       0.5  0.333333  0.200000       0.5       1.0   \n",
       "\n",
       "          eigen_values  normal_eigen  \n",
       "Работа 1      1.698381      0.236428  \n",
       "Работа 2      1.049115      0.146045  \n",
       "Работа 3      0.953184      0.132691  \n",
       "Работа 4      2.492883      0.347029  \n",
       "Работа 5      0.588796      0.081965  \n",
       "Работа 6      0.401142      0.055842  "
      ]
     },
     "execution_count": 41,
     "metadata": {},
     "output_type": "execute_result"
    }
   ],
   "source": [
    "df_zp = computation_eigen_values(df_zp)\n",
    "df_zp"
   ]
  },
  {
   "cell_type": "markdown",
   "id": "4ccecc35",
   "metadata": {},
   "source": [
    "## 4.3 Местоположение"
   ]
  },
  {
   "cell_type": "code",
   "execution_count": 42,
   "id": "99fa9f4c",
   "metadata": {
    "ExecuteTime": {
     "end_time": "2021-12-23T12:24:53.417909Z",
     "start_time": "2021-12-23T12:24:53.397966Z"
    }
   },
   "outputs": [
    {
     "data": {
      "text/html": [
       "<div>\n",
       "<style scoped>\n",
       "    .dataframe tbody tr th:only-of-type {\n",
       "        vertical-align: middle;\n",
       "    }\n",
       "\n",
       "    .dataframe tbody tr th {\n",
       "        vertical-align: top;\n",
       "    }\n",
       "\n",
       "    .dataframe thead th {\n",
       "        text-align: right;\n",
       "    }\n",
       "</style>\n",
       "<table border=\"1\" class=\"dataframe\">\n",
       "  <thead>\n",
       "    <tr style=\"text-align: right;\">\n",
       "      <th></th>\n",
       "      <th>Работа 1</th>\n",
       "      <th>Работа 2</th>\n",
       "      <th>Работа 3</th>\n",
       "      <th>Работа 4</th>\n",
       "      <th>Работа 5</th>\n",
       "      <th>Работа 6</th>\n",
       "      <th>eigen_values</th>\n",
       "      <th>normal_eigen</th>\n",
       "    </tr>\n",
       "  </thead>\n",
       "  <tbody>\n",
       "    <tr>\n",
       "      <th>Работа 1</th>\n",
       "      <td>1.000000</td>\n",
       "      <td>2.000000</td>\n",
       "      <td>5.0</td>\n",
       "      <td>4.0</td>\n",
       "      <td>2.000000</td>\n",
       "      <td>3.0</td>\n",
       "      <td>2.492883</td>\n",
       "      <td>0.345522</td>\n",
       "    </tr>\n",
       "    <tr>\n",
       "      <th>Работа 2</th>\n",
       "      <td>0.500000</td>\n",
       "      <td>1.000000</td>\n",
       "      <td>4.0</td>\n",
       "      <td>3.0</td>\n",
       "      <td>2.000000</td>\n",
       "      <td>2.0</td>\n",
       "      <td>1.698381</td>\n",
       "      <td>0.235402</td>\n",
       "    </tr>\n",
       "    <tr>\n",
       "      <th>Работа 3</th>\n",
       "      <td>0.200000</td>\n",
       "      <td>0.250000</td>\n",
       "      <td>1.0</td>\n",
       "      <td>0.5</td>\n",
       "      <td>0.333333</td>\n",
       "      <td>0.5</td>\n",
       "      <td>0.401142</td>\n",
       "      <td>0.055600</td>\n",
       "    </tr>\n",
       "    <tr>\n",
       "      <th>Работа 4</th>\n",
       "      <td>0.250000</td>\n",
       "      <td>0.333333</td>\n",
       "      <td>2.0</td>\n",
       "      <td>1.0</td>\n",
       "      <td>0.500000</td>\n",
       "      <td>0.5</td>\n",
       "      <td>0.588796</td>\n",
       "      <td>0.081609</td>\n",
       "    </tr>\n",
       "    <tr>\n",
       "      <th>Работа 5</th>\n",
       "      <td>0.500000</td>\n",
       "      <td>0.500000</td>\n",
       "      <td>3.0</td>\n",
       "      <td>2.0</td>\n",
       "      <td>1.000000</td>\n",
       "      <td>2.0</td>\n",
       "      <td>1.200937</td>\n",
       "      <td>0.166454</td>\n",
       "    </tr>\n",
       "    <tr>\n",
       "      <th>Работа 6</th>\n",
       "      <td>0.333333</td>\n",
       "      <td>0.500000</td>\n",
       "      <td>2.0</td>\n",
       "      <td>2.0</td>\n",
       "      <td>0.500000</td>\n",
       "      <td>1.0</td>\n",
       "      <td>0.832683</td>\n",
       "      <td>0.115413</td>\n",
       "    </tr>\n",
       "  </tbody>\n",
       "</table>\n",
       "</div>"
      ],
      "text/plain": [
       "          Работа 1  Работа 2  Работа 3  Работа 4  Работа 5  Работа 6  \\\n",
       "Работа 1  1.000000  2.000000       5.0       4.0  2.000000       3.0   \n",
       "Работа 2  0.500000  1.000000       4.0       3.0  2.000000       2.0   \n",
       "Работа 3  0.200000  0.250000       1.0       0.5  0.333333       0.5   \n",
       "Работа 4  0.250000  0.333333       2.0       1.0  0.500000       0.5   \n",
       "Работа 5  0.500000  0.500000       3.0       2.0  1.000000       2.0   \n",
       "Работа 6  0.333333  0.500000       2.0       2.0  0.500000       1.0   \n",
       "\n",
       "          eigen_values  normal_eigen  \n",
       "Работа 1      2.492883      0.345522  \n",
       "Работа 2      1.698381      0.235402  \n",
       "Работа 3      0.401142      0.055600  \n",
       "Работа 4      0.588796      0.081609  \n",
       "Работа 5      1.200937      0.166454  \n",
       "Работа 6      0.832683      0.115413  "
      ]
     },
     "execution_count": 42,
     "metadata": {},
     "output_type": "execute_result"
    }
   ],
   "source": [
    "df_mp = computation_eigen_values(df_mp)\n",
    "df_mp"
   ]
  },
  {
   "cell_type": "markdown",
   "id": "272841fe",
   "metadata": {},
   "source": [
    "## 4.4 Коллеги"
   ]
  },
  {
   "cell_type": "code",
   "execution_count": 43,
   "id": "6e18f84e",
   "metadata": {
    "ExecuteTime": {
     "end_time": "2021-12-23T12:24:54.987859Z",
     "start_time": "2021-12-23T12:24:54.968916Z"
    }
   },
   "outputs": [
    {
     "data": {
      "text/html": [
       "<div>\n",
       "<style scoped>\n",
       "    .dataframe tbody tr th:only-of-type {\n",
       "        vertical-align: middle;\n",
       "    }\n",
       "\n",
       "    .dataframe tbody tr th {\n",
       "        vertical-align: top;\n",
       "    }\n",
       "\n",
       "    .dataframe thead th {\n",
       "        text-align: right;\n",
       "    }\n",
       "</style>\n",
       "<table border=\"1\" class=\"dataframe\">\n",
       "  <thead>\n",
       "    <tr style=\"text-align: right;\">\n",
       "      <th></th>\n",
       "      <th>Работа 1</th>\n",
       "      <th>Работа 2</th>\n",
       "      <th>Работа 3</th>\n",
       "      <th>Работа 4</th>\n",
       "      <th>Работа 5</th>\n",
       "      <th>Работа 6</th>\n",
       "      <th>eigen_values</th>\n",
       "      <th>normal_eigen</th>\n",
       "    </tr>\n",
       "  </thead>\n",
       "  <tbody>\n",
       "    <tr>\n",
       "      <th>Работа 1</th>\n",
       "      <td>1.0</td>\n",
       "      <td>0.333333</td>\n",
       "      <td>2.0</td>\n",
       "      <td>0.500000</td>\n",
       "      <td>2.0</td>\n",
       "      <td>0.333333</td>\n",
       "      <td>0.778272</td>\n",
       "      <td>0.107847</td>\n",
       "    </tr>\n",
       "    <tr>\n",
       "      <th>Работа 2</th>\n",
       "      <td>3.0</td>\n",
       "      <td>1.000000</td>\n",
       "      <td>4.0</td>\n",
       "      <td>2.000000</td>\n",
       "      <td>5.0</td>\n",
       "      <td>2.000000</td>\n",
       "      <td>2.492883</td>\n",
       "      <td>0.345446</td>\n",
       "    </tr>\n",
       "    <tr>\n",
       "      <th>Работа 3</th>\n",
       "      <td>0.5</td>\n",
       "      <td>0.250000</td>\n",
       "      <td>1.0</td>\n",
       "      <td>0.500000</td>\n",
       "      <td>2.0</td>\n",
       "      <td>0.333333</td>\n",
       "      <td>0.588796</td>\n",
       "      <td>0.081591</td>\n",
       "    </tr>\n",
       "    <tr>\n",
       "      <th>Работа 4</th>\n",
       "      <td>2.0</td>\n",
       "      <td>0.500000</td>\n",
       "      <td>2.0</td>\n",
       "      <td>1.000000</td>\n",
       "      <td>3.0</td>\n",
       "      <td>2.000000</td>\n",
       "      <td>1.513086</td>\n",
       "      <td>0.209672</td>\n",
       "    </tr>\n",
       "    <tr>\n",
       "      <th>Работа 5</th>\n",
       "      <td>0.5</td>\n",
       "      <td>0.200000</td>\n",
       "      <td>0.5</td>\n",
       "      <td>0.333333</td>\n",
       "      <td>1.0</td>\n",
       "      <td>0.250000</td>\n",
       "      <td>0.401142</td>\n",
       "      <td>0.055587</td>\n",
       "    </tr>\n",
       "    <tr>\n",
       "      <th>Работа 6</th>\n",
       "      <td>3.0</td>\n",
       "      <td>0.500000</td>\n",
       "      <td>3.0</td>\n",
       "      <td>0.500000</td>\n",
       "      <td>4.0</td>\n",
       "      <td>1.000000</td>\n",
       "      <td>1.442250</td>\n",
       "      <td>0.199856</td>\n",
       "    </tr>\n",
       "  </tbody>\n",
       "</table>\n",
       "</div>"
      ],
      "text/plain": [
       "          Работа 1  Работа 2  Работа 3  Работа 4  Работа 5  Работа 6  \\\n",
       "Работа 1       1.0  0.333333       2.0  0.500000       2.0  0.333333   \n",
       "Работа 2       3.0  1.000000       4.0  2.000000       5.0  2.000000   \n",
       "Работа 3       0.5  0.250000       1.0  0.500000       2.0  0.333333   \n",
       "Работа 4       2.0  0.500000       2.0  1.000000       3.0  2.000000   \n",
       "Работа 5       0.5  0.200000       0.5  0.333333       1.0  0.250000   \n",
       "Работа 6       3.0  0.500000       3.0  0.500000       4.0  1.000000   \n",
       "\n",
       "          eigen_values  normal_eigen  \n",
       "Работа 1      0.778272      0.107847  \n",
       "Работа 2      2.492883      0.345446  \n",
       "Работа 3      0.588796      0.081591  \n",
       "Работа 4      1.513086      0.209672  \n",
       "Работа 5      0.401142      0.055587  \n",
       "Работа 6      1.442250      0.199856  "
      ]
     },
     "execution_count": 43,
     "metadata": {},
     "output_type": "execute_result"
    }
   ],
   "source": [
    "df_kol = computation_eigen_values(df_kol)\n",
    "df_kol"
   ]
  },
  {
   "cell_type": "markdown",
   "id": "53b03fb6",
   "metadata": {},
   "source": [
    "## 4.5 Рост карьеры"
   ]
  },
  {
   "cell_type": "code",
   "execution_count": 44,
   "id": "e6b2600a",
   "metadata": {
    "ExecuteTime": {
     "end_time": "2021-12-23T12:24:56.126438Z",
     "start_time": "2021-12-23T12:24:56.102854Z"
    }
   },
   "outputs": [
    {
     "data": {
      "text/html": [
       "<div>\n",
       "<style scoped>\n",
       "    .dataframe tbody tr th:only-of-type {\n",
       "        vertical-align: middle;\n",
       "    }\n",
       "\n",
       "    .dataframe tbody tr th {\n",
       "        vertical-align: top;\n",
       "    }\n",
       "\n",
       "    .dataframe thead th {\n",
       "        text-align: right;\n",
       "    }\n",
       "</style>\n",
       "<table border=\"1\" class=\"dataframe\">\n",
       "  <thead>\n",
       "    <tr style=\"text-align: right;\">\n",
       "      <th></th>\n",
       "      <th>Работа 1</th>\n",
       "      <th>Работа 2</th>\n",
       "      <th>Работа 3</th>\n",
       "      <th>Работа 4</th>\n",
       "      <th>Работа 5</th>\n",
       "      <th>Работа 6</th>\n",
       "      <th>eigen_values</th>\n",
       "      <th>normal_eigen</th>\n",
       "    </tr>\n",
       "  </thead>\n",
       "  <tbody>\n",
       "    <tr>\n",
       "      <th>Работа 1</th>\n",
       "      <td>1.0</td>\n",
       "      <td>0.333333</td>\n",
       "      <td>2.000000</td>\n",
       "      <td>2.0</td>\n",
       "      <td>0.500000</td>\n",
       "      <td>2.00</td>\n",
       "      <td>1.049115</td>\n",
       "      <td>0.151433</td>\n",
       "    </tr>\n",
       "    <tr>\n",
       "      <th>Работа 2</th>\n",
       "      <td>3.0</td>\n",
       "      <td>1.000000</td>\n",
       "      <td>4.000000</td>\n",
       "      <td>5.0</td>\n",
       "      <td>2.000000</td>\n",
       "      <td>2.00</td>\n",
       "      <td>2.492883</td>\n",
       "      <td>0.359831</td>\n",
       "    </tr>\n",
       "    <tr>\n",
       "      <th>Работа 3</th>\n",
       "      <td>0.5</td>\n",
       "      <td>0.250000</td>\n",
       "      <td>1.000000</td>\n",
       "      <td>2.0</td>\n",
       "      <td>0.500000</td>\n",
       "      <td>3.00</td>\n",
       "      <td>0.849191</td>\n",
       "      <td>0.122575</td>\n",
       "    </tr>\n",
       "    <tr>\n",
       "      <th>Работа 4</th>\n",
       "      <td>0.5</td>\n",
       "      <td>0.200000</td>\n",
       "      <td>0.500000</td>\n",
       "      <td>1.0</td>\n",
       "      <td>0.333333</td>\n",
       "      <td>0.25</td>\n",
       "      <td>0.401142</td>\n",
       "      <td>0.057902</td>\n",
       "    </tr>\n",
       "    <tr>\n",
       "      <th>Работа 5</th>\n",
       "      <td>2.0</td>\n",
       "      <td>0.500000</td>\n",
       "      <td>2.000000</td>\n",
       "      <td>3.0</td>\n",
       "      <td>1.000000</td>\n",
       "      <td>0.50</td>\n",
       "      <td>1.200937</td>\n",
       "      <td>0.173347</td>\n",
       "    </tr>\n",
       "    <tr>\n",
       "      <th>Работа 6</th>\n",
       "      <td>0.5</td>\n",
       "      <td>0.500000</td>\n",
       "      <td>0.333333</td>\n",
       "      <td>4.0</td>\n",
       "      <td>2.000000</td>\n",
       "      <td>1.00</td>\n",
       "      <td>0.934655</td>\n",
       "      <td>0.134911</td>\n",
       "    </tr>\n",
       "  </tbody>\n",
       "</table>\n",
       "</div>"
      ],
      "text/plain": [
       "          Работа 1  Работа 2  Работа 3  Работа 4  Работа 5  Работа 6  \\\n",
       "Работа 1       1.0  0.333333  2.000000       2.0  0.500000      2.00   \n",
       "Работа 2       3.0  1.000000  4.000000       5.0  2.000000      2.00   \n",
       "Работа 3       0.5  0.250000  1.000000       2.0  0.500000      3.00   \n",
       "Работа 4       0.5  0.200000  0.500000       1.0  0.333333      0.25   \n",
       "Работа 5       2.0  0.500000  2.000000       3.0  1.000000      0.50   \n",
       "Работа 6       0.5  0.500000  0.333333       4.0  2.000000      1.00   \n",
       "\n",
       "          eigen_values  normal_eigen  \n",
       "Работа 1      1.049115      0.151433  \n",
       "Работа 2      2.492883      0.359831  \n",
       "Работа 3      0.849191      0.122575  \n",
       "Работа 4      0.401142      0.057902  \n",
       "Работа 5      1.200937      0.173347  \n",
       "Работа 6      0.934655      0.134911  "
      ]
     },
     "execution_count": 44,
     "metadata": {},
     "output_type": "execute_result"
    }
   ],
   "source": [
    "df_rk = computation_eigen_values(df_rk)\n",
    "df_rk"
   ]
  },
  {
   "cell_type": "markdown",
   "id": "b92362c2",
   "metadata": {},
   "source": [
    "# 5 Вычисление индекса согласованности"
   ]
  },
  {
   "cell_type": "code",
   "execution_count": 45,
   "id": "6c2b38d3",
   "metadata": {
    "ExecuteTime": {
     "end_time": "2021-12-23T12:24:57.297268Z",
     "start_time": "2021-12-23T12:24:57.282328Z"
    }
   },
   "outputs": [],
   "source": [
    "INDEX_CONS_RND = 1.24"
   ]
  },
  {
   "cell_type": "markdown",
   "id": "04969884",
   "metadata": {},
   "source": [
    "## 5. 1 Престиж"
   ]
  },
  {
   "cell_type": "code",
   "execution_count": 46,
   "id": "9aaa7e9d",
   "metadata": {
    "ExecuteTime": {
     "end_time": "2021-12-23T12:24:58.486778Z",
     "start_time": "2021-12-23T12:24:58.471821Z"
    }
   },
   "outputs": [
    {
     "name": "stdout",
     "output_type": "stream",
     "text": [
      "Индекс согласованности для престижа равен = 0.025764824804919685\n",
      "Индекс средней согласованности для престижа равен = 2.077808452009652%\n"
     ]
    }
   ],
   "source": [
    "df_pr, index = check_consistency(df_pr)\n",
    "print(f'Индекс согласованности для престижа равен = {str(index)}')\n",
    "print(f'Индекс средней согласованности для престижа равен = {str((index/INDEX_CONS_RND)*100)}%')"
   ]
  },
  {
   "cell_type": "markdown",
   "id": "593f8106",
   "metadata": {},
   "source": [
    "## 5.2 Заработная плата"
   ]
  },
  {
   "cell_type": "code",
   "execution_count": 47,
   "id": "cc0b8e55",
   "metadata": {
    "ExecuteTime": {
     "end_time": "2021-12-23T12:24:59.687808Z",
     "start_time": "2021-12-23T12:24:59.666833Z"
    }
   },
   "outputs": [
    {
     "name": "stdout",
     "output_type": "stream",
     "text": [
      "Индекс согласованности для заработной платы равен = 0.031630788419295716\n",
      "Индекс средней согласованности для заработной платы равен = 2.5508700338141708%\n"
     ]
    }
   ],
   "source": [
    "df_zp, index = check_consistency(df_zp)\n",
    "print(f'Индекс согласованности для заработной платы равен = {str(index)}')\n",
    "print(f'Индекс средней согласованности для заработной платы равен = {str((index/INDEX_CONS_RND)*100)}%')"
   ]
  },
  {
   "cell_type": "markdown",
   "id": "11d33ab0",
   "metadata": {},
   "source": [
    "## 5.3 Местоположение"
   ]
  },
  {
   "cell_type": "code",
   "execution_count": 48,
   "id": "a7e7ccea",
   "metadata": {
    "ExecuteTime": {
     "end_time": "2021-12-23T12:25:00.850642Z",
     "start_time": "2021-12-23T12:25:00.836648Z"
    }
   },
   "outputs": [
    {
     "name": "stdout",
     "output_type": "stream",
     "text": [
      "Индекс согласованности для заработной платы равен = 0.01977273369422683\n",
      "Индекс средней согласованности для заработной платы равен = 1.5945752979215184%\n"
     ]
    }
   ],
   "source": [
    "df_mp, index = check_consistency(df_mp)\n",
    "print(f'Индекс согласованности для заработной платы равен = {str(index)}')\n",
    "print(f'Индекс средней согласованности для заработной платы равен = {str((index/INDEX_CONS_RND)*100)}%')"
   ]
  },
  {
   "cell_type": "markdown",
   "id": "d84bda08",
   "metadata": {},
   "source": [
    "## 5.4 Коллеги"
   ]
  },
  {
   "cell_type": "code",
   "execution_count": 49,
   "id": "d7df1eb3",
   "metadata": {
    "ExecuteTime": {
     "end_time": "2021-12-23T12:25:02.039155Z",
     "start_time": "2021-12-23T12:25:02.025226Z"
    }
   },
   "outputs": [
    {
     "name": "stdout",
     "output_type": "stream",
     "text": [
      "Индекс согласованности для заработной платы равен = 0.040147144523111855\n",
      "Индекс средней согласованности для заработной платы равен = 3.237672945412246%\n"
     ]
    }
   ],
   "source": [
    "df_kol, index = check_consistency(df_kol)\n",
    "print(f'Индекс согласованности для заработной платы равен = {str(index)}')\n",
    "print(f'Индекс средней согласованности для заработной платы равен = {str((index/INDEX_CONS_RND)*100)}%')"
   ]
  },
  {
   "cell_type": "markdown",
   "id": "3494fe18",
   "metadata": {},
   "source": [
    "## 5.5 Рост карьеры"
   ]
  },
  {
   "cell_type": "code",
   "execution_count": 50,
   "id": "03a5d142",
   "metadata": {
    "ExecuteTime": {
     "end_time": "2021-12-23T12:25:03.147557Z",
     "start_time": "2021-12-23T12:25:03.128463Z"
    }
   },
   "outputs": [
    {
     "name": "stdout",
     "output_type": "stream",
     "text": [
      "Индекс согласованности для заработной платы равен = 0.12105522993902262\n",
      "Индекс средней согласованности для заработной платы равен = 9.762518543469568%\n"
     ]
    }
   ],
   "source": [
    "df_rk, index = check_consistency(df_rk)\n",
    "print(f'Индекс согласованности для заработной платы равен = {str(index)}')\n",
    "print(f'Индекс средней согласованности для заработной платы равен = {str((index/INDEX_CONS_RND)*100)}%')"
   ]
  },
  {
   "cell_type": "markdown",
   "id": "c47806cc",
   "metadata": {},
   "source": [
    "# 6 При условии что местоположение не измениться"
   ]
  },
  {
   "cell_type": "code",
   "execution_count": 55,
   "id": "f828666c",
   "metadata": {
    "ExecuteTime": {
     "end_time": "2021-12-23T12:26:25.422150Z",
     "start_time": "2021-12-23T12:26:25.408187Z"
    }
   },
   "outputs": [
    {
     "data": {
      "text/html": [
       "<div>\n",
       "<style scoped>\n",
       "    .dataframe tbody tr th:only-of-type {\n",
       "        vertical-align: middle;\n",
       "    }\n",
       "\n",
       "    .dataframe tbody tr th {\n",
       "        vertical-align: top;\n",
       "    }\n",
       "\n",
       "    .dataframe thead th {\n",
       "        text-align: right;\n",
       "    }\n",
       "</style>\n",
       "<table border=\"1\" class=\"dataframe\">\n",
       "  <thead>\n",
       "    <tr style=\"text-align: right;\">\n",
       "      <th></th>\n",
       "      <th>Местоположение</th>\n",
       "      <th>Заработная плата</th>\n",
       "      <th>Коллеги</th>\n",
       "      <th>Рост карьеры</th>\n",
       "      <th>Престиж</th>\n",
       "    </tr>\n",
       "  </thead>\n",
       "  <tbody>\n",
       "    <tr>\n",
       "      <th>Местоположение</th>\n",
       "      <td>1</td>\n",
       "      <td>1/4</td>\n",
       "      <td>1/3</td>\n",
       "      <td>1/4</td>\n",
       "      <td>1/5</td>\n",
       "    </tr>\n",
       "    <tr>\n",
       "      <th>Заработная плата</th>\n",
       "      <td>4/1</td>\n",
       "      <td>1</td>\n",
       "      <td>6/1</td>\n",
       "      <td>1/2</td>\n",
       "      <td>1/2</td>\n",
       "    </tr>\n",
       "    <tr>\n",
       "      <th>Коллеги</th>\n",
       "      <td>3/1</td>\n",
       "      <td>1/6</td>\n",
       "      <td>1</td>\n",
       "      <td>1/6</td>\n",
       "      <td>1/8</td>\n",
       "    </tr>\n",
       "    <tr>\n",
       "      <th>Рост карьеры</th>\n",
       "      <td>4/1</td>\n",
       "      <td>2/1</td>\n",
       "      <td>6/1</td>\n",
       "      <td>1</td>\n",
       "      <td>1/2</td>\n",
       "    </tr>\n",
       "    <tr>\n",
       "      <th>Престиж</th>\n",
       "      <td>5/1</td>\n",
       "      <td>2/1</td>\n",
       "      <td>8/1</td>\n",
       "      <td>2/1</td>\n",
       "      <td>1</td>\n",
       "    </tr>\n",
       "  </tbody>\n",
       "</table>\n",
       "</div>"
      ],
      "text/plain": [
       "                 Местоположение Заработная плата Коллеги Рост карьеры Престиж\n",
       "Местоположение                1              1/4     1/3          1/4     1/5\n",
       "Заработная плата            4/1                1     6/1          1/2     1/2\n",
       "Коллеги                     3/1              1/6       1          1/6     1/8\n",
       "Рост карьеры                4/1              2/1     6/1            1     1/2\n",
       "Престиж                     5/1              2/1     8/1          2/1       1"
      ]
     },
     "execution_count": 55,
     "metadata": {},
     "output_type": "execute_result"
    }
   ],
   "source": [
    "alternatives = ['Местоположение', 'Заработная плата', 'Коллеги', 'Рост карьеры', 'Престиж']\n",
    "values = [['1', '1/4', '1/3', '1/4', '1/5'],\n",
    "          ['4/1', '1', '6/1', '1/2', '1/2'],\n",
    "          ['3/1', '1/6', '1', '1/6', '1/8'],\n",
    "          ['4/1', '2/1', '6/1', '1', '1/2'],\n",
    "          ['5/1', '2/1', '8/1', '2/1', '1']]\n",
    "\n",
    "df_mp_unchg = pd.DataFrame(values, columns=alternatives, index=alternatives)\n",
    "df_mp_unchg"
   ]
  },
  {
   "cell_type": "code",
   "execution_count": 56,
   "id": "f997efe8",
   "metadata": {
    "ExecuteTime": {
     "end_time": "2021-12-23T12:26:26.481853Z",
     "start_time": "2021-12-23T12:26:26.464901Z"
    }
   },
   "outputs": [
    {
     "data": {
      "text/html": [
       "<div>\n",
       "<style scoped>\n",
       "    .dataframe tbody tr th:only-of-type {\n",
       "        vertical-align: middle;\n",
       "    }\n",
       "\n",
       "    .dataframe tbody tr th {\n",
       "        vertical-align: top;\n",
       "    }\n",
       "\n",
       "    .dataframe thead th {\n",
       "        text-align: right;\n",
       "    }\n",
       "</style>\n",
       "<table border=\"1\" class=\"dataframe\">\n",
       "  <thead>\n",
       "    <tr style=\"text-align: right;\">\n",
       "      <th></th>\n",
       "      <th>Местоположение</th>\n",
       "      <th>Заработная плата</th>\n",
       "      <th>Коллеги</th>\n",
       "      <th>Рост карьеры</th>\n",
       "      <th>Престиж</th>\n",
       "      <th>eigen_values</th>\n",
       "      <th>normal_eigen</th>\n",
       "    </tr>\n",
       "  </thead>\n",
       "  <tbody>\n",
       "    <tr>\n",
       "      <th>Местоположение</th>\n",
       "      <td>1.0</td>\n",
       "      <td>0.250000</td>\n",
       "      <td>0.333333</td>\n",
       "      <td>0.250000</td>\n",
       "      <td>0.200</td>\n",
       "      <td>0.334163</td>\n",
       "      <td>0.049040</td>\n",
       "    </tr>\n",
       "    <tr>\n",
       "      <th>Заработная плата</th>\n",
       "      <td>4.0</td>\n",
       "      <td>1.000000</td>\n",
       "      <td>6.000000</td>\n",
       "      <td>0.500000</td>\n",
       "      <td>0.500</td>\n",
       "      <td>1.430969</td>\n",
       "      <td>0.210000</td>\n",
       "    </tr>\n",
       "    <tr>\n",
       "      <th>Коллеги</th>\n",
       "      <td>3.0</td>\n",
       "      <td>0.166667</td>\n",
       "      <td>1.000000</td>\n",
       "      <td>0.166667</td>\n",
       "      <td>0.125</td>\n",
       "      <td>0.401371</td>\n",
       "      <td>0.058903</td>\n",
       "    </tr>\n",
       "    <tr>\n",
       "      <th>Рост карьеры</th>\n",
       "      <td>4.0</td>\n",
       "      <td>2.000000</td>\n",
       "      <td>6.000000</td>\n",
       "      <td>1.000000</td>\n",
       "      <td>0.500</td>\n",
       "      <td>1.888175</td>\n",
       "      <td>0.277097</td>\n",
       "    </tr>\n",
       "    <tr>\n",
       "      <th>Престиж</th>\n",
       "      <td>5.0</td>\n",
       "      <td>2.000000</td>\n",
       "      <td>8.000000</td>\n",
       "      <td>2.000000</td>\n",
       "      <td>1.000</td>\n",
       "      <td>2.759459</td>\n",
       "      <td>0.404961</td>\n",
       "    </tr>\n",
       "  </tbody>\n",
       "</table>\n",
       "</div>"
      ],
      "text/plain": [
       "                  Местоположение  Заработная плата   Коллеги  Рост карьеры  \\\n",
       "Местоположение               1.0          0.250000  0.333333      0.250000   \n",
       "Заработная плата             4.0          1.000000  6.000000      0.500000   \n",
       "Коллеги                      3.0          0.166667  1.000000      0.166667   \n",
       "Рост карьеры                 4.0          2.000000  6.000000      1.000000   \n",
       "Престиж                      5.0          2.000000  8.000000      2.000000   \n",
       "\n",
       "                  Престиж  eigen_values  normal_eigen  \n",
       "Местоположение      0.200      0.334163      0.049040  \n",
       "Заработная плата    0.500      1.430969      0.210000  \n",
       "Коллеги             0.125      0.401371      0.058903  \n",
       "Рост карьеры        0.500      1.888175      0.277097  \n",
       "Престиж             1.000      2.759459      0.404961  "
      ]
     },
     "execution_count": 56,
     "metadata": {},
     "output_type": "execute_result"
    }
   ],
   "source": [
    "df_mp_unchg = computation_eigen_values_crit(df_mp_unchg)\n",
    "df_mp_unchg"
   ]
  },
  {
   "cell_type": "code",
   "execution_count": 57,
   "id": "221b44a4",
   "metadata": {
    "ExecuteTime": {
     "end_time": "2021-12-23T12:26:27.227638Z",
     "start_time": "2021-12-23T12:26:27.208690Z"
    }
   },
   "outputs": [],
   "source": [
    "df_weights_unchg = weight_calculation(df_mp_unchg)"
   ]
  },
  {
   "cell_type": "code",
   "execution_count": 58,
   "id": "4848dc73",
   "metadata": {
    "ExecuteTime": {
     "end_time": "2021-12-23T12:26:29.510647Z",
     "start_time": "2021-12-23T12:26:29.495649Z"
    }
   },
   "outputs": [
    {
     "data": {
      "text/html": [
       "<div>\n",
       "<style scoped>\n",
       "    .dataframe tbody tr th:only-of-type {\n",
       "        vertical-align: middle;\n",
       "    }\n",
       "\n",
       "    .dataframe tbody tr th {\n",
       "        vertical-align: top;\n",
       "    }\n",
       "\n",
       "    .dataframe thead th {\n",
       "        text-align: right;\n",
       "    }\n",
       "</style>\n",
       "<table border=\"1\" class=\"dataframe\">\n",
       "  <thead>\n",
       "    <tr style=\"text-align: right;\">\n",
       "      <th></th>\n",
       "      <th>0</th>\n",
       "    </tr>\n",
       "  </thead>\n",
       "  <tbody>\n",
       "    <tr>\n",
       "      <th>w1</th>\n",
       "      <td>0.295105</td>\n",
       "    </tr>\n",
       "    <tr>\n",
       "      <th>w2</th>\n",
       "      <td>0.181772</td>\n",
       "    </tr>\n",
       "    <tr>\n",
       "      <th>w3</th>\n",
       "      <td>0.181582</td>\n",
       "    </tr>\n",
       "    <tr>\n",
       "      <th>w4</th>\n",
       "      <td>0.153562</td>\n",
       "    </tr>\n",
       "    <tr>\n",
       "      <th>w5</th>\n",
       "      <td>0.108257</td>\n",
       "    </tr>\n",
       "    <tr>\n",
       "      <th>w6</th>\n",
       "      <td>0.079722</td>\n",
       "    </tr>\n",
       "  </tbody>\n",
       "</table>\n",
       "</div>"
      ],
      "text/plain": [
       "           0\n",
       "w1  0.295105\n",
       "w2  0.181772\n",
       "w3  0.181582\n",
       "w4  0.153562\n",
       "w5  0.108257\n",
       "w6  0.079722"
      ]
     },
     "execution_count": 58,
     "metadata": {},
     "output_type": "execute_result"
    }
   ],
   "source": [
    "df_weights_unchg"
   ]
  },
  {
   "cell_type": "markdown",
   "id": "c8f00f22",
   "metadata": {},
   "source": [
    "# 7 При условии что местоположение измениться в лучшую сторону"
   ]
  },
  {
   "cell_type": "code",
   "execution_count": 59,
   "id": "a6a44dd0",
   "metadata": {
    "ExecuteTime": {
     "end_time": "2021-12-23T12:26:33.628096Z",
     "start_time": "2021-12-23T12:26:33.609164Z"
    }
   },
   "outputs": [
    {
     "data": {
      "text/html": [
       "<div>\n",
       "<style scoped>\n",
       "    .dataframe tbody tr th:only-of-type {\n",
       "        vertical-align: middle;\n",
       "    }\n",
       "\n",
       "    .dataframe tbody tr th {\n",
       "        vertical-align: top;\n",
       "    }\n",
       "\n",
       "    .dataframe thead th {\n",
       "        text-align: right;\n",
       "    }\n",
       "</style>\n",
       "<table border=\"1\" class=\"dataframe\">\n",
       "  <thead>\n",
       "    <tr style=\"text-align: right;\">\n",
       "      <th></th>\n",
       "      <th>Местоположение</th>\n",
       "      <th>Заработная плата</th>\n",
       "      <th>Коллеги</th>\n",
       "      <th>Рост карьеры</th>\n",
       "      <th>Престиж</th>\n",
       "    </tr>\n",
       "  </thead>\n",
       "  <tbody>\n",
       "    <tr>\n",
       "      <th>Местоположение</th>\n",
       "      <td>1</td>\n",
       "      <td>1/7</td>\n",
       "      <td>1/6</td>\n",
       "      <td>1/7</td>\n",
       "      <td>1/8</td>\n",
       "    </tr>\n",
       "    <tr>\n",
       "      <th>Заработная плата</th>\n",
       "      <td>7/1</td>\n",
       "      <td>1</td>\n",
       "      <td>5/1</td>\n",
       "      <td>1/2</td>\n",
       "      <td>1/3</td>\n",
       "    </tr>\n",
       "    <tr>\n",
       "      <th>Коллеги</th>\n",
       "      <td>6/1</td>\n",
       "      <td>1/5</td>\n",
       "      <td>1</td>\n",
       "      <td>1/4</td>\n",
       "      <td>1/8</td>\n",
       "    </tr>\n",
       "    <tr>\n",
       "      <th>Рост карьеры</th>\n",
       "      <td>7/1</td>\n",
       "      <td>2/1</td>\n",
       "      <td>4/1</td>\n",
       "      <td>1</td>\n",
       "      <td>3/1</td>\n",
       "    </tr>\n",
       "    <tr>\n",
       "      <th>Престиж</th>\n",
       "      <td>8/1</td>\n",
       "      <td>3/1</td>\n",
       "      <td>8/1</td>\n",
       "      <td>1/3</td>\n",
       "      <td>1</td>\n",
       "    </tr>\n",
       "  </tbody>\n",
       "</table>\n",
       "</div>"
      ],
      "text/plain": [
       "                 Местоположение Заработная плата Коллеги Рост карьеры Престиж\n",
       "Местоположение                1              1/7     1/6          1/7     1/8\n",
       "Заработная плата            7/1                1     5/1          1/2     1/3\n",
       "Коллеги                     6/1              1/5       1          1/4     1/8\n",
       "Рост карьеры                7/1              2/1     4/1            1     3/1\n",
       "Престиж                     8/1              3/1     8/1          1/3       1"
      ]
     },
     "execution_count": 59,
     "metadata": {},
     "output_type": "execute_result"
    }
   ],
   "source": [
    "alternatives = ['Местоположение', 'Заработная плата', 'Коллеги', 'Рост карьеры', 'Престиж']\n",
    "values = [['1', '1/7', '1/6', '1/7', '1/8'],\n",
    "          ['7/1', '1', '5/1', '1/2', '1/3'],\n",
    "          ['6/1', '1/5', '1', '1/4', '1/8'],\n",
    "          ['7/1', '2/1', '4/1', '1', '3/1'],\n",
    "          ['8/1', '3/1', '8/1', '1/3', '1']]\n",
    "\n",
    "df_mp_chg_plus = pd.DataFrame(values, columns=alternatives, index=alternatives)\n",
    "df_mp_chg_plus"
   ]
  },
  {
   "cell_type": "code",
   "execution_count": 60,
   "id": "97ed4981",
   "metadata": {
    "ExecuteTime": {
     "end_time": "2021-12-23T12:26:35.127080Z",
     "start_time": "2021-12-23T12:26:35.099158Z"
    }
   },
   "outputs": [
    {
     "data": {
      "text/html": [
       "<div>\n",
       "<style scoped>\n",
       "    .dataframe tbody tr th:only-of-type {\n",
       "        vertical-align: middle;\n",
       "    }\n",
       "\n",
       "    .dataframe tbody tr th {\n",
       "        vertical-align: top;\n",
       "    }\n",
       "\n",
       "    .dataframe thead th {\n",
       "        text-align: right;\n",
       "    }\n",
       "</style>\n",
       "<table border=\"1\" class=\"dataframe\">\n",
       "  <thead>\n",
       "    <tr style=\"text-align: right;\">\n",
       "      <th></th>\n",
       "      <th>Местоположение</th>\n",
       "      <th>Заработная плата</th>\n",
       "      <th>Коллеги</th>\n",
       "      <th>Рост карьеры</th>\n",
       "      <th>Престиж</th>\n",
       "      <th>eigen_values</th>\n",
       "      <th>normal_eigen</th>\n",
       "    </tr>\n",
       "  </thead>\n",
       "  <tbody>\n",
       "    <tr>\n",
       "      <th>Местоположение</th>\n",
       "      <td>1.0</td>\n",
       "      <td>0.142857</td>\n",
       "      <td>0.166667</td>\n",
       "      <td>0.142857</td>\n",
       "      <td>0.125000</td>\n",
       "      <td>0.211696</td>\n",
       "      <td>0.029251</td>\n",
       "    </tr>\n",
       "    <tr>\n",
       "      <th>Заработная плата</th>\n",
       "      <td>7.0</td>\n",
       "      <td>1.000000</td>\n",
       "      <td>5.000000</td>\n",
       "      <td>0.500000</td>\n",
       "      <td>0.333333</td>\n",
       "      <td>1.422929</td>\n",
       "      <td>0.196616</td>\n",
       "    </tr>\n",
       "    <tr>\n",
       "      <th>Коллеги</th>\n",
       "      <td>6.0</td>\n",
       "      <td>0.200000</td>\n",
       "      <td>1.000000</td>\n",
       "      <td>0.250000</td>\n",
       "      <td>0.125000</td>\n",
       "      <td>0.518569</td>\n",
       "      <td>0.071654</td>\n",
       "    </tr>\n",
       "    <tr>\n",
       "      <th>Рост карьеры</th>\n",
       "      <td>7.0</td>\n",
       "      <td>2.000000</td>\n",
       "      <td>4.000000</td>\n",
       "      <td>1.000000</td>\n",
       "      <td>3.000000</td>\n",
       "      <td>2.786518</td>\n",
       "      <td>0.385032</td>\n",
       "    </tr>\n",
       "    <tr>\n",
       "      <th>Престиж</th>\n",
       "      <td>8.0</td>\n",
       "      <td>3.000000</td>\n",
       "      <td>8.000000</td>\n",
       "      <td>0.333333</td>\n",
       "      <td>1.000000</td>\n",
       "      <td>2.297397</td>\n",
       "      <td>0.317447</td>\n",
       "    </tr>\n",
       "  </tbody>\n",
       "</table>\n",
       "</div>"
      ],
      "text/plain": [
       "                  Местоположение  Заработная плата   Коллеги  Рост карьеры  \\\n",
       "Местоположение               1.0          0.142857  0.166667      0.142857   \n",
       "Заработная плата             7.0          1.000000  5.000000      0.500000   \n",
       "Коллеги                      6.0          0.200000  1.000000      0.250000   \n",
       "Рост карьеры                 7.0          2.000000  4.000000      1.000000   \n",
       "Престиж                      8.0          3.000000  8.000000      0.333333   \n",
       "\n",
       "                   Престиж  eigen_values  normal_eigen  \n",
       "Местоположение    0.125000      0.211696      0.029251  \n",
       "Заработная плата  0.333333      1.422929      0.196616  \n",
       "Коллеги           0.125000      0.518569      0.071654  \n",
       "Рост карьеры      3.000000      2.786518      0.385032  \n",
       "Престиж           1.000000      2.297397      0.317447  "
      ]
     },
     "execution_count": 60,
     "metadata": {},
     "output_type": "execute_result"
    }
   ],
   "source": [
    "df_mp_chg_plus = computation_eigen_values_crit(df_mp_chg_plus)\n",
    "df_mp_chg_plus"
   ]
  },
  {
   "cell_type": "code",
   "execution_count": 61,
   "id": "ed57cd1a",
   "metadata": {
    "ExecuteTime": {
     "end_time": "2021-12-23T12:26:36.107061Z",
     "start_time": "2021-12-23T12:26:36.092100Z"
    }
   },
   "outputs": [],
   "source": [
    "df_weights_chg_plus = weight_calculation(df_mp_chg_plus)"
   ]
  },
  {
   "cell_type": "code",
   "execution_count": 62,
   "id": "d2a6079d",
   "metadata": {
    "ExecuteTime": {
     "end_time": "2021-12-23T12:26:36.691981Z",
     "start_time": "2021-12-23T12:26:36.649096Z"
    }
   },
   "outputs": [
    {
     "data": {
      "text/html": [
       "<div>\n",
       "<style scoped>\n",
       "    .dataframe tbody tr th:only-of-type {\n",
       "        vertical-align: middle;\n",
       "    }\n",
       "\n",
       "    .dataframe tbody tr th {\n",
       "        vertical-align: top;\n",
       "    }\n",
       "\n",
       "    .dataframe thead th {\n",
       "        text-align: right;\n",
       "    }\n",
       "</style>\n",
       "<table border=\"1\" class=\"dataframe\">\n",
       "  <thead>\n",
       "    <tr style=\"text-align: right;\">\n",
       "      <th></th>\n",
       "      <th>0</th>\n",
       "    </tr>\n",
       "  </thead>\n",
       "  <tbody>\n",
       "    <tr>\n",
       "      <th>w1</th>\n",
       "      <td>0.263882</td>\n",
       "    </tr>\n",
       "    <tr>\n",
       "      <th>w2</th>\n",
       "      <td>0.214188</td>\n",
       "    </tr>\n",
       "    <tr>\n",
       "      <th>w3</th>\n",
       "      <td>0.168725</td>\n",
       "    </tr>\n",
       "    <tr>\n",
       "      <th>w4</th>\n",
       "      <td>0.145790</td>\n",
       "    </tr>\n",
       "    <tr>\n",
       "      <th>w5</th>\n",
       "      <td>0.116462</td>\n",
       "    </tr>\n",
       "    <tr>\n",
       "      <th>w6</th>\n",
       "      <td>0.090953</td>\n",
       "    </tr>\n",
       "  </tbody>\n",
       "</table>\n",
       "</div>"
      ],
      "text/plain": [
       "           0\n",
       "w1  0.263882\n",
       "w2  0.214188\n",
       "w3  0.168725\n",
       "w4  0.145790\n",
       "w5  0.116462\n",
       "w6  0.090953"
      ]
     },
     "execution_count": 62,
     "metadata": {},
     "output_type": "execute_result"
    }
   ],
   "source": [
    "df_weights_chg_plus"
   ]
  },
  {
   "cell_type": "markdown",
   "id": "43813638",
   "metadata": {},
   "source": [
    "# 8 При условии что местоположение измениться в худшую сторону"
   ]
  },
  {
   "cell_type": "code",
   "execution_count": 63,
   "id": "cb91e6e7",
   "metadata": {
    "ExecuteTime": {
     "end_time": "2021-12-23T12:26:39.561936Z",
     "start_time": "2021-12-23T12:26:39.548005Z"
    }
   },
   "outputs": [
    {
     "data": {
      "text/html": [
       "<div>\n",
       "<style scoped>\n",
       "    .dataframe tbody tr th:only-of-type {\n",
       "        vertical-align: middle;\n",
       "    }\n",
       "\n",
       "    .dataframe tbody tr th {\n",
       "        vertical-align: top;\n",
       "    }\n",
       "\n",
       "    .dataframe thead th {\n",
       "        text-align: right;\n",
       "    }\n",
       "</style>\n",
       "<table border=\"1\" class=\"dataframe\">\n",
       "  <thead>\n",
       "    <tr style=\"text-align: right;\">\n",
       "      <th></th>\n",
       "      <th>Местоположение</th>\n",
       "      <th>Заработная плата</th>\n",
       "      <th>Коллеги</th>\n",
       "      <th>Рост карьеры</th>\n",
       "      <th>Престиж</th>\n",
       "    </tr>\n",
       "  </thead>\n",
       "  <tbody>\n",
       "    <tr>\n",
       "      <th>Местоположение</th>\n",
       "      <td>1</td>\n",
       "      <td>7/1</td>\n",
       "      <td>6/1</td>\n",
       "      <td>7/1</td>\n",
       "      <td>8/1</td>\n",
       "    </tr>\n",
       "    <tr>\n",
       "      <th>Заработная плата</th>\n",
       "      <td>1/7</td>\n",
       "      <td>1</td>\n",
       "      <td>5/1</td>\n",
       "      <td>1/2</td>\n",
       "      <td>1/3</td>\n",
       "    </tr>\n",
       "    <tr>\n",
       "      <th>Коллеги</th>\n",
       "      <td>1/6</td>\n",
       "      <td>1/5</td>\n",
       "      <td>1</td>\n",
       "      <td>1/4</td>\n",
       "      <td>1/8</td>\n",
       "    </tr>\n",
       "    <tr>\n",
       "      <th>Рост карьеры</th>\n",
       "      <td>1/7</td>\n",
       "      <td>2/1</td>\n",
       "      <td>4/1</td>\n",
       "      <td>1</td>\n",
       "      <td>3/1</td>\n",
       "    </tr>\n",
       "    <tr>\n",
       "      <th>Престиж</th>\n",
       "      <td>1/8</td>\n",
       "      <td>3/1</td>\n",
       "      <td>8/1</td>\n",
       "      <td>1/3</td>\n",
       "      <td>1</td>\n",
       "    </tr>\n",
       "  </tbody>\n",
       "</table>\n",
       "</div>"
      ],
      "text/plain": [
       "                 Местоположение Заработная плата Коллеги Рост карьеры Престиж\n",
       "Местоположение                1              7/1     6/1          7/1     8/1\n",
       "Заработная плата            1/7                1     5/1          1/2     1/3\n",
       "Коллеги                     1/6              1/5       1          1/4     1/8\n",
       "Рост карьеры                1/7              2/1     4/1            1     3/1\n",
       "Престиж                     1/8              3/1     8/1          1/3       1"
      ]
     },
     "execution_count": 63,
     "metadata": {},
     "output_type": "execute_result"
    }
   ],
   "source": [
    "alternatives = ['Местоположение', 'Заработная плата', 'Коллеги', 'Рост карьеры', 'Престиж']\n",
    "values = [['1', '7/1', '6/1', '7/1', '8/1'],\n",
    "          ['1/7', '1', '5/1', '1/2', '1/3'],\n",
    "          ['1/6', '1/5', '1', '1/4', '1/8'],\n",
    "          ['1/7', '2/1', '4/1', '1', '3/1'],\n",
    "          ['1/8', '3/1', '8/1', '1/3', '1']]\n",
    "\n",
    "df_mp_chg_minus = pd.DataFrame(values, columns=alternatives, index=alternatives)\n",
    "df_mp_chg_minus"
   ]
  },
  {
   "cell_type": "code",
   "execution_count": 64,
   "id": "ca33c85b",
   "metadata": {
    "ExecuteTime": {
     "end_time": "2021-12-23T12:26:40.046398Z",
     "start_time": "2021-12-23T12:26:40.015438Z"
    }
   },
   "outputs": [
    {
     "data": {
      "text/html": [
       "<div>\n",
       "<style scoped>\n",
       "    .dataframe tbody tr th:only-of-type {\n",
       "        vertical-align: middle;\n",
       "    }\n",
       "\n",
       "    .dataframe tbody tr th {\n",
       "        vertical-align: top;\n",
       "    }\n",
       "\n",
       "    .dataframe thead th {\n",
       "        text-align: right;\n",
       "    }\n",
       "</style>\n",
       "<table border=\"1\" class=\"dataframe\">\n",
       "  <thead>\n",
       "    <tr style=\"text-align: right;\">\n",
       "      <th></th>\n",
       "      <th>Местоположение</th>\n",
       "      <th>Заработная плата</th>\n",
       "      <th>Коллеги</th>\n",
       "      <th>Рост карьеры</th>\n",
       "      <th>Престиж</th>\n",
       "      <th>eigen_values</th>\n",
       "      <th>normal_eigen</th>\n",
       "    </tr>\n",
       "  </thead>\n",
       "  <tbody>\n",
       "    <tr>\n",
       "      <th>Местоположение</th>\n",
       "      <td>1.000000</td>\n",
       "      <td>7.0</td>\n",
       "      <td>6.0</td>\n",
       "      <td>7.000000</td>\n",
       "      <td>8.000000</td>\n",
       "      <td>4.723756</td>\n",
       "      <td>0.597203</td>\n",
       "    </tr>\n",
       "    <tr>\n",
       "      <th>Заработная плата</th>\n",
       "      <td>0.142857</td>\n",
       "      <td>1.0</td>\n",
       "      <td>5.0</td>\n",
       "      <td>0.500000</td>\n",
       "      <td>0.333333</td>\n",
       "      <td>0.653347</td>\n",
       "      <td>0.082600</td>\n",
       "    </tr>\n",
       "    <tr>\n",
       "      <th>Коллеги</th>\n",
       "      <td>0.166667</td>\n",
       "      <td>0.2</td>\n",
       "      <td>1.0</td>\n",
       "      <td>0.250000</td>\n",
       "      <td>0.125000</td>\n",
       "      <td>0.253248</td>\n",
       "      <td>0.032017</td>\n",
       "    </tr>\n",
       "    <tr>\n",
       "      <th>Рост карьеры</th>\n",
       "      <td>0.142857</td>\n",
       "      <td>2.0</td>\n",
       "      <td>4.0</td>\n",
       "      <td>1.000000</td>\n",
       "      <td>3.000000</td>\n",
       "      <td>1.279448</td>\n",
       "      <td>0.161755</td>\n",
       "    </tr>\n",
       "    <tr>\n",
       "      <th>Престиж</th>\n",
       "      <td>0.125000</td>\n",
       "      <td>3.0</td>\n",
       "      <td>8.0</td>\n",
       "      <td>0.333333</td>\n",
       "      <td>1.000000</td>\n",
       "      <td>1.000000</td>\n",
       "      <td>0.126425</td>\n",
       "    </tr>\n",
       "  </tbody>\n",
       "</table>\n",
       "</div>"
      ],
      "text/plain": [
       "                  Местоположение  Заработная плата  Коллеги  Рост карьеры  \\\n",
       "Местоположение          1.000000               7.0      6.0      7.000000   \n",
       "Заработная плата        0.142857               1.0      5.0      0.500000   \n",
       "Коллеги                 0.166667               0.2      1.0      0.250000   \n",
       "Рост карьеры            0.142857               2.0      4.0      1.000000   \n",
       "Престиж                 0.125000               3.0      8.0      0.333333   \n",
       "\n",
       "                   Престиж  eigen_values  normal_eigen  \n",
       "Местоположение    8.000000      4.723756      0.597203  \n",
       "Заработная плата  0.333333      0.653347      0.082600  \n",
       "Коллеги           0.125000      0.253248      0.032017  \n",
       "Рост карьеры      3.000000      1.279448      0.161755  \n",
       "Престиж           1.000000      1.000000      0.126425  "
      ]
     },
     "execution_count": 64,
     "metadata": {},
     "output_type": "execute_result"
    }
   ],
   "source": [
    "df_mp_chg_minus = computation_eigen_values_crit(df_mp_chg_minus)\n",
    "df_mp_chg_minus"
   ]
  },
  {
   "cell_type": "code",
   "execution_count": 65,
   "id": "7c40b148",
   "metadata": {
    "ExecuteTime": {
     "end_time": "2021-12-23T12:26:40.670190Z",
     "start_time": "2021-12-23T12:26:40.656227Z"
    }
   },
   "outputs": [],
   "source": [
    "df_weights_chg_minus = weight_calculation(df_mp_chg_minus)"
   ]
  },
  {
   "cell_type": "code",
   "execution_count": 66,
   "id": "d16bbeb0",
   "metadata": {
    "ExecuteTime": {
     "end_time": "2021-12-23T12:26:41.261143Z",
     "start_time": "2021-12-23T12:26:41.248178Z"
    }
   },
   "outputs": [
    {
     "data": {
      "text/html": [
       "<div>\n",
       "<style scoped>\n",
       "    .dataframe tbody tr th:only-of-type {\n",
       "        vertical-align: middle;\n",
       "    }\n",
       "\n",
       "    .dataframe tbody tr th {\n",
       "        vertical-align: top;\n",
       "    }\n",
       "\n",
       "    .dataframe thead th {\n",
       "        text-align: right;\n",
       "    }\n",
       "</style>\n",
       "<table border=\"1\" class=\"dataframe\">\n",
       "  <thead>\n",
       "    <tr style=\"text-align: right;\">\n",
       "      <th></th>\n",
       "      <th>0</th>\n",
       "    </tr>\n",
       "  </thead>\n",
       "  <tbody>\n",
       "    <tr>\n",
       "      <th>w1</th>\n",
       "      <td>0.310080</td>\n",
       "    </tr>\n",
       "    <tr>\n",
       "      <th>w2</th>\n",
       "      <td>0.227999</td>\n",
       "    </tr>\n",
       "    <tr>\n",
       "      <th>w3</th>\n",
       "      <td>0.101638</td>\n",
       "    </tr>\n",
       "    <tr>\n",
       "      <th>w4</th>\n",
       "      <td>0.108556</td>\n",
       "    </tr>\n",
       "    <tr>\n",
       "      <th>w5</th>\n",
       "      <td>0.145854</td>\n",
       "    </tr>\n",
       "    <tr>\n",
       "      <th>w6</th>\n",
       "      <td>0.105873</td>\n",
       "    </tr>\n",
       "  </tbody>\n",
       "</table>\n",
       "</div>"
      ],
      "text/plain": [
       "           0\n",
       "w1  0.310080\n",
       "w2  0.227999\n",
       "w3  0.101638\n",
       "w4  0.108556\n",
       "w5  0.145854\n",
       "w6  0.105873"
      ]
     },
     "execution_count": 66,
     "metadata": {},
     "output_type": "execute_result"
    }
   ],
   "source": [
    "df_weights_chg_minus"
   ]
  },
  {
   "cell_type": "markdown",
   "id": "5617c387",
   "metadata": {},
   "source": [
    "# 9 Таблица полезностей"
   ]
  },
  {
   "cell_type": "code",
   "execution_count": 67,
   "id": "66e13423",
   "metadata": {
    "ExecuteTime": {
     "end_time": "2021-12-23T12:26:44.371090Z",
     "start_time": "2021-12-23T12:26:44.364111Z"
    }
   },
   "outputs": [],
   "source": [
    "df_profit = pd.concat([df_weights_unchg, df_weights_chg_plus, df_weights_chg_minus], axis=1)"
   ]
  },
  {
   "cell_type": "code",
   "execution_count": 68,
   "id": "19328b19",
   "metadata": {
    "ExecuteTime": {
     "end_time": "2021-12-23T12:26:44.951706Z",
     "start_time": "2021-12-23T12:26:44.946722Z"
    }
   },
   "outputs": [],
   "source": [
    "df_profit = pd.DataFrame(df_profit.values, columns=['Не измениться', 'Измениться в лучшую сторону', 'Измениться в худшую стоону'], index=['Работа ' + str(x) for x in range(1, 7)])"
   ]
  },
  {
   "cell_type": "code",
   "execution_count": 69,
   "id": "e21a1299",
   "metadata": {
    "ExecuteTime": {
     "end_time": "2021-12-23T12:26:45.419920Z",
     "start_time": "2021-12-23T12:26:45.408951Z"
    }
   },
   "outputs": [
    {
     "data": {
      "text/html": [
       "<div>\n",
       "<style scoped>\n",
       "    .dataframe tbody tr th:only-of-type {\n",
       "        vertical-align: middle;\n",
       "    }\n",
       "\n",
       "    .dataframe tbody tr th {\n",
       "        vertical-align: top;\n",
       "    }\n",
       "\n",
       "    .dataframe thead th {\n",
       "        text-align: right;\n",
       "    }\n",
       "</style>\n",
       "<table border=\"1\" class=\"dataframe\">\n",
       "  <thead>\n",
       "    <tr style=\"text-align: right;\">\n",
       "      <th></th>\n",
       "      <th>Не измениться</th>\n",
       "      <th>Измениться в лучшую сторону</th>\n",
       "      <th>Измениться в худшую стоону</th>\n",
       "    </tr>\n",
       "  </thead>\n",
       "  <tbody>\n",
       "    <tr>\n",
       "      <th>Работа 1</th>\n",
       "      <td>0.295105</td>\n",
       "      <td>0.263882</td>\n",
       "      <td>0.310080</td>\n",
       "    </tr>\n",
       "    <tr>\n",
       "      <th>Работа 2</th>\n",
       "      <td>0.181772</td>\n",
       "      <td>0.214188</td>\n",
       "      <td>0.227999</td>\n",
       "    </tr>\n",
       "    <tr>\n",
       "      <th>Работа 3</th>\n",
       "      <td>0.181582</td>\n",
       "      <td>0.168725</td>\n",
       "      <td>0.101638</td>\n",
       "    </tr>\n",
       "    <tr>\n",
       "      <th>Работа 4</th>\n",
       "      <td>0.153562</td>\n",
       "      <td>0.145790</td>\n",
       "      <td>0.108556</td>\n",
       "    </tr>\n",
       "    <tr>\n",
       "      <th>Работа 5</th>\n",
       "      <td>0.108257</td>\n",
       "      <td>0.116462</td>\n",
       "      <td>0.145854</td>\n",
       "    </tr>\n",
       "    <tr>\n",
       "      <th>Работа 6</th>\n",
       "      <td>0.079722</td>\n",
       "      <td>0.090953</td>\n",
       "      <td>0.105873</td>\n",
       "    </tr>\n",
       "  </tbody>\n",
       "</table>\n",
       "</div>"
      ],
      "text/plain": [
       "          Не измениться  Измениться в лучшую сторону  \\\n",
       "Работа 1       0.295105                     0.263882   \n",
       "Работа 2       0.181772                     0.214188   \n",
       "Работа 3       0.181582                     0.168725   \n",
       "Работа 4       0.153562                     0.145790   \n",
       "Работа 5       0.108257                     0.116462   \n",
       "Работа 6       0.079722                     0.090953   \n",
       "\n",
       "          Измениться в худшую стоону  \n",
       "Работа 1                    0.310080  \n",
       "Работа 2                    0.227999  \n",
       "Работа 3                    0.101638  \n",
       "Работа 4                    0.108556  \n",
       "Работа 5                    0.145854  \n",
       "Работа 6                    0.105873  "
      ]
     },
     "execution_count": 69,
     "metadata": {},
     "output_type": "execute_result"
    }
   ],
   "source": [
    "df_profit"
   ]
  },
  {
   "cell_type": "markdown",
   "id": "cab0cb59",
   "metadata": {},
   "source": [
    "## 9.1 Критерий максимума ожидаемой полезности"
   ]
  },
  {
   "cell_type": "code",
   "execution_count": 71,
   "id": "0b5f91e0",
   "metadata": {
    "ExecuteTime": {
     "end_time": "2021-12-23T12:28:50.827194Z",
     "start_time": "2021-12-23T12:28:50.809241Z"
    }
   },
   "outputs": [],
   "source": [
    "df_crit = maximum_expected_utility(df_profit)"
   ]
  },
  {
   "cell_type": "code",
   "execution_count": 72,
   "id": "7bcf195e",
   "metadata": {
    "ExecuteTime": {
     "end_time": "2021-12-23T12:28:51.497539Z",
     "start_time": "2021-12-23T12:28:51.481544Z"
    }
   },
   "outputs": [
    {
     "data": {
      "text/html": [
       "<div>\n",
       "<style scoped>\n",
       "    .dataframe tbody tr th:only-of-type {\n",
       "        vertical-align: middle;\n",
       "    }\n",
       "\n",
       "    .dataframe tbody tr th {\n",
       "        vertical-align: top;\n",
       "    }\n",
       "\n",
       "    .dataframe thead th {\n",
       "        text-align: right;\n",
       "    }\n",
       "</style>\n",
       "<table border=\"1\" class=\"dataframe\">\n",
       "  <thead>\n",
       "    <tr style=\"text-align: right;\">\n",
       "      <th></th>\n",
       "      <th>0</th>\n",
       "    </tr>\n",
       "  </thead>\n",
       "  <tbody>\n",
       "    <tr>\n",
       "      <th>w1</th>\n",
       "      <td>0.293353</td>\n",
       "    </tr>\n",
       "    <tr>\n",
       "      <th>w2</th>\n",
       "      <td>0.202124</td>\n",
       "    </tr>\n",
       "    <tr>\n",
       "      <th>w3</th>\n",
       "      <td>0.155027</td>\n",
       "    </tr>\n",
       "    <tr>\n",
       "      <th>w4</th>\n",
       "      <td>0.138506</td>\n",
       "    </tr>\n",
       "    <tr>\n",
       "      <th>w5</th>\n",
       "      <td>0.121177</td>\n",
       "    </tr>\n",
       "    <tr>\n",
       "      <th>w6</th>\n",
       "      <td>0.089814</td>\n",
       "    </tr>\n",
       "  </tbody>\n",
       "</table>\n",
       "</div>"
      ],
      "text/plain": [
       "           0\n",
       "w1  0.293353\n",
       "w2  0.202124\n",
       "w3  0.155027\n",
       "w4  0.138506\n",
       "w5  0.121177\n",
       "w6  0.089814"
      ]
     },
     "execution_count": 72,
     "metadata": {},
     "output_type": "execute_result"
    }
   ],
   "source": [
    "df_crit"
   ]
  },
  {
   "cell_type": "markdown",
   "id": "cbc4560c",
   "metadata": {},
   "source": [
    "## 9.2 Критерий максимина вальда"
   ]
  },
  {
   "cell_type": "code",
   "execution_count": 73,
   "id": "1e6e5713",
   "metadata": {
    "ExecuteTime": {
     "end_time": "2021-12-23T12:28:54.397609Z",
     "start_time": "2021-12-23T12:28:54.379656Z"
    }
   },
   "outputs": [
    {
     "data": {
      "text/plain": [
       "[0.26388181217191664,\n",
       " 0.18177237432891413,\n",
       " 0.10163774586197805,\n",
       " 0.1085563754879915,\n",
       " 0.10825684713435202,\n",
       " 0.07972196415813326]"
      ]
     },
     "execution_count": 73,
     "metadata": {},
     "output_type": "execute_result"
    }
   ],
   "source": [
    "mins = wald_criterion(df_profit)\n",
    "mins"
   ]
  },
  {
   "cell_type": "code",
   "execution_count": 74,
   "id": "acadcd55",
   "metadata": {
    "ExecuteTime": {
     "end_time": "2021-12-23T12:28:55.166970Z",
     "start_time": "2021-12-23T12:28:55.149017Z"
    }
   },
   "outputs": [
    {
     "data": {
      "text/plain": [
       "0.26388181217191664"
      ]
     },
     "execution_count": 74,
     "metadata": {},
     "output_type": "execute_result"
    }
   ],
   "source": [
    "max(mins)"
   ]
  },
  {
   "cell_type": "markdown",
   "id": "0924ef89",
   "metadata": {},
   "source": [
    "# 10 Допополнительное задание"
   ]
  },
  {
   "cell_type": "markdown",
   "id": "1d3a4cf3",
   "metadata": {},
   "source": [
    "## 10.1 Нелинейная максиминая свертка"
   ]
  },
  {
   "cell_type": "markdown",
   "id": "162e816f",
   "metadata": {},
   "source": [
    "###  10.1.1 При условии, что меcтоположение не измениться"
   ]
  },
  {
   "cell_type": "code",
   "execution_count": 79,
   "id": "d11281f9",
   "metadata": {
    "ExecuteTime": {
     "end_time": "2021-12-23T12:35:52.313028Z",
     "start_time": "2021-12-23T12:35:52.290090Z"
    }
   },
   "outputs": [
    {
     "data": {
      "text/html": [
       "<div>\n",
       "<style scoped>\n",
       "    .dataframe tbody tr th:only-of-type {\n",
       "        vertical-align: middle;\n",
       "    }\n",
       "\n",
       "    .dataframe tbody tr th {\n",
       "        vertical-align: top;\n",
       "    }\n",
       "\n",
       "    .dataframe thead th {\n",
       "        text-align: right;\n",
       "    }\n",
       "</style>\n",
       "<table border=\"1\" class=\"dataframe\">\n",
       "  <thead>\n",
       "    <tr style=\"text-align: right;\">\n",
       "      <th></th>\n",
       "      <th>0</th>\n",
       "    </tr>\n",
       "  </thead>\n",
       "  <tbody>\n",
       "    <tr>\n",
       "      <th>w1</th>\n",
       "      <td>0.006352</td>\n",
       "    </tr>\n",
       "    <tr>\n",
       "      <th>w2</th>\n",
       "      <td>0.011544</td>\n",
       "    </tr>\n",
       "    <tr>\n",
       "      <th>w3</th>\n",
       "      <td>0.002727</td>\n",
       "    </tr>\n",
       "    <tr>\n",
       "      <th>w4</th>\n",
       "      <td>0.004002</td>\n",
       "    </tr>\n",
       "    <tr>\n",
       "      <th>w5</th>\n",
       "      <td>0.003274</td>\n",
       "    </tr>\n",
       "    <tr>\n",
       "      <th>w6</th>\n",
       "      <td>0.005660</td>\n",
       "    </tr>\n",
       "  </tbody>\n",
       "</table>\n",
       "</div>"
      ],
      "text/plain": [
       "           0\n",
       "w1  0.006352\n",
       "w2  0.011544\n",
       "w3  0.002727\n",
       "w4  0.004002\n",
       "w5  0.003274\n",
       "w6  0.005660"
      ]
     },
     "execution_count": 79,
     "metadata": {},
     "output_type": "execute_result"
    }
   ],
   "source": [
    "df_weights_unchg = weight_calculation_min(df_mp_unchg)\n",
    "df_weights_unchg"
   ]
  },
  {
   "cell_type": "markdown",
   "id": "f2438674",
   "metadata": {},
   "source": [
    "### 10.1.2 При условии что местоположение измениться в лучшую сторону"
   ]
  },
  {
   "cell_type": "code",
   "execution_count": 81,
   "id": "5c9cddd1",
   "metadata": {
    "ExecuteTime": {
     "end_time": "2021-12-23T12:37:45.090138Z",
     "start_time": "2021-12-23T12:37:45.077135Z"
    }
   },
   "outputs": [
    {
     "data": {
      "text/html": [
       "<div>\n",
       "<style scoped>\n",
       "    .dataframe tbody tr th:only-of-type {\n",
       "        vertical-align: middle;\n",
       "    }\n",
       "\n",
       "    .dataframe tbody tr th {\n",
       "        vertical-align: top;\n",
       "    }\n",
       "\n",
       "    .dataframe thead th {\n",
       "        text-align: right;\n",
       "    }\n",
       "</style>\n",
       "<table border=\"1\" class=\"dataframe\">\n",
       "  <thead>\n",
       "    <tr style=\"text-align: right;\">\n",
       "      <th></th>\n",
       "      <th>0</th>\n",
       "    </tr>\n",
       "  </thead>\n",
       "  <tbody>\n",
       "    <tr>\n",
       "      <th>w1</th>\n",
       "      <td>0.007728</td>\n",
       "    </tr>\n",
       "    <tr>\n",
       "      <th>w2</th>\n",
       "      <td>0.006886</td>\n",
       "    </tr>\n",
       "    <tr>\n",
       "      <th>w3</th>\n",
       "      <td>0.001626</td>\n",
       "    </tr>\n",
       "    <tr>\n",
       "      <th>w4</th>\n",
       "      <td>0.002387</td>\n",
       "    </tr>\n",
       "    <tr>\n",
       "      <th>w5</th>\n",
       "      <td>0.003983</td>\n",
       "    </tr>\n",
       "    <tr>\n",
       "      <th>w6</th>\n",
       "      <td>0.003376</td>\n",
       "    </tr>\n",
       "  </tbody>\n",
       "</table>\n",
       "</div>"
      ],
      "text/plain": [
       "           0\n",
       "w1  0.007728\n",
       "w2  0.006886\n",
       "w3  0.001626\n",
       "w4  0.002387\n",
       "w5  0.003983\n",
       "w6  0.003376"
      ]
     },
     "execution_count": 81,
     "metadata": {},
     "output_type": "execute_result"
    }
   ],
   "source": [
    "df_weights_chg_plus = weight_calculation_min(df_mp_chg_plus)\n",
    "df_weights_chg_plus"
   ]
  },
  {
   "cell_type": "markdown",
   "id": "b22368bf",
   "metadata": {},
   "source": [
    "### 10.1.3 При условии что местоположение измениться в худшую сторону"
   ]
  },
  {
   "cell_type": "code",
   "execution_count": 82,
   "id": "37b1c46b",
   "metadata": {
    "ExecuteTime": {
     "end_time": "2021-12-23T12:39:26.792190Z",
     "start_time": "2021-12-23T12:39:26.782180Z"
    }
   },
   "outputs": [
    {
     "data": {
      "text/html": [
       "<div>\n",
       "<style scoped>\n",
       "    .dataframe tbody tr th:only-of-type {\n",
       "        vertical-align: middle;\n",
       "    }\n",
       "\n",
       "    .dataframe tbody tr th {\n",
       "        vertical-align: top;\n",
       "    }\n",
       "\n",
       "    .dataframe thead th {\n",
       "        text-align: right;\n",
       "    }\n",
       "</style>\n",
       "<table border=\"1\" class=\"dataframe\">\n",
       "  <thead>\n",
       "    <tr style=\"text-align: right;\">\n",
       "      <th></th>\n",
       "      <th>0</th>\n",
       "    </tr>\n",
       "  </thead>\n",
       "  <tbody>\n",
       "    <tr>\n",
       "      <th>w1</th>\n",
       "      <td>0.003453</td>\n",
       "    </tr>\n",
       "    <tr>\n",
       "      <th>w2</th>\n",
       "      <td>0.006089</td>\n",
       "    </tr>\n",
       "    <tr>\n",
       "      <th>w3</th>\n",
       "      <td>0.002612</td>\n",
       "    </tr>\n",
       "    <tr>\n",
       "      <th>w4</th>\n",
       "      <td>0.006713</td>\n",
       "    </tr>\n",
       "    <tr>\n",
       "      <th>w5</th>\n",
       "      <td>0.001780</td>\n",
       "    </tr>\n",
       "    <tr>\n",
       "      <th>w6</th>\n",
       "      <td>0.004115</td>\n",
       "    </tr>\n",
       "  </tbody>\n",
       "</table>\n",
       "</div>"
      ],
      "text/plain": [
       "           0\n",
       "w1  0.003453\n",
       "w2  0.006089\n",
       "w3  0.002612\n",
       "w4  0.006713\n",
       "w5  0.001780\n",
       "w6  0.004115"
      ]
     },
     "execution_count": 82,
     "metadata": {},
     "output_type": "execute_result"
    }
   ],
   "source": [
    "df_weights_chg_minus = weight_calculation_min(df_mp_chg_minus)\n",
    "df_weights_chg_minus"
   ]
  },
  {
   "cell_type": "markdown",
   "id": "7ad18499",
   "metadata": {},
   "source": [
    "### 10.1. 4 Таблица полезностей"
   ]
  },
  {
   "cell_type": "code",
   "execution_count": 83,
   "id": "c1f694f0",
   "metadata": {
    "ExecuteTime": {
     "end_time": "2021-12-23T12:42:00.158021Z",
     "start_time": "2021-12-23T12:42:00.140069Z"
    }
   },
   "outputs": [
    {
     "data": {
      "text/html": [
       "<div>\n",
       "<style scoped>\n",
       "    .dataframe tbody tr th:only-of-type {\n",
       "        vertical-align: middle;\n",
       "    }\n",
       "\n",
       "    .dataframe tbody tr th {\n",
       "        vertical-align: top;\n",
       "    }\n",
       "\n",
       "    .dataframe thead th {\n",
       "        text-align: right;\n",
       "    }\n",
       "</style>\n",
       "<table border=\"1\" class=\"dataframe\">\n",
       "  <thead>\n",
       "    <tr style=\"text-align: right;\">\n",
       "      <th></th>\n",
       "      <th>Не измениться</th>\n",
       "      <th>Измениться в лучшую сторону</th>\n",
       "      <th>Измениться в худшую стоону</th>\n",
       "    </tr>\n",
       "  </thead>\n",
       "  <tbody>\n",
       "    <tr>\n",
       "      <th>Работа 1</th>\n",
       "      <td>0.006352</td>\n",
       "      <td>0.007728</td>\n",
       "      <td>0.003453</td>\n",
       "    </tr>\n",
       "    <tr>\n",
       "      <th>Работа 2</th>\n",
       "      <td>0.011544</td>\n",
       "      <td>0.006886</td>\n",
       "      <td>0.006089</td>\n",
       "    </tr>\n",
       "    <tr>\n",
       "      <th>Работа 3</th>\n",
       "      <td>0.002727</td>\n",
       "      <td>0.001626</td>\n",
       "      <td>0.002612</td>\n",
       "    </tr>\n",
       "    <tr>\n",
       "      <th>Работа 4</th>\n",
       "      <td>0.004002</td>\n",
       "      <td>0.002387</td>\n",
       "      <td>0.006713</td>\n",
       "    </tr>\n",
       "    <tr>\n",
       "      <th>Работа 5</th>\n",
       "      <td>0.003274</td>\n",
       "      <td>0.003983</td>\n",
       "      <td>0.001780</td>\n",
       "    </tr>\n",
       "    <tr>\n",
       "      <th>Работа 6</th>\n",
       "      <td>0.005660</td>\n",
       "      <td>0.003376</td>\n",
       "      <td>0.004115</td>\n",
       "    </tr>\n",
       "  </tbody>\n",
       "</table>\n",
       "</div>"
      ],
      "text/plain": [
       "          Не измениться  Измениться в лучшую сторону  \\\n",
       "Работа 1       0.006352                     0.007728   \n",
       "Работа 2       0.011544                     0.006886   \n",
       "Работа 3       0.002727                     0.001626   \n",
       "Работа 4       0.004002                     0.002387   \n",
       "Работа 5       0.003274                     0.003983   \n",
       "Работа 6       0.005660                     0.003376   \n",
       "\n",
       "          Измениться в худшую стоону  \n",
       "Работа 1                    0.003453  \n",
       "Работа 2                    0.006089  \n",
       "Работа 3                    0.002612  \n",
       "Работа 4                    0.006713  \n",
       "Работа 5                    0.001780  \n",
       "Работа 6                    0.004115  "
      ]
     },
     "execution_count": 83,
     "metadata": {},
     "output_type": "execute_result"
    }
   ],
   "source": [
    "df_profit = pd.concat([df_weights_unchg, df_weights_chg_plus, df_weights_chg_minus], axis=1)\n",
    "df_profit = pd.DataFrame(df_profit.values, columns=['Не измениться', 'Измениться в лучшую сторону', 'Измениться в худшую стоону'], index=['Работа ' + str(x) for x in range(1, 7)])\n",
    "df_profit"
   ]
  },
  {
   "cell_type": "markdown",
   "id": "96997d1e",
   "metadata": {},
   "source": [
    "### 10.1.5 Критерий максимума ожидаемой полезности"
   ]
  },
  {
   "cell_type": "code",
   "execution_count": 84,
   "id": "04b0a7f1",
   "metadata": {
    "ExecuteTime": {
     "end_time": "2021-12-23T12:43:14.868239Z",
     "start_time": "2021-12-23T12:43:14.851250Z"
    }
   },
   "outputs": [
    {
     "data": {
      "text/html": [
       "<div>\n",
       "<style scoped>\n",
       "    .dataframe tbody tr th:only-of-type {\n",
       "        vertical-align: middle;\n",
       "    }\n",
       "\n",
       "    .dataframe tbody tr th {\n",
       "        vertical-align: top;\n",
       "    }\n",
       "\n",
       "    .dataframe thead th {\n",
       "        text-align: right;\n",
       "    }\n",
       "</style>\n",
       "<table border=\"1\" class=\"dataframe\">\n",
       "  <thead>\n",
       "    <tr style=\"text-align: right;\">\n",
       "      <th></th>\n",
       "      <th>0</th>\n",
       "    </tr>\n",
       "  </thead>\n",
       "  <tbody>\n",
       "    <tr>\n",
       "      <th>w1</th>\n",
       "      <td>0.005758</td>\n",
       "    </tr>\n",
       "    <tr>\n",
       "      <th>w2</th>\n",
       "      <td>0.008976</td>\n",
       "    </tr>\n",
       "    <tr>\n",
       "      <th>w3</th>\n",
       "      <td>0.002472</td>\n",
       "    </tr>\n",
       "    <tr>\n",
       "      <th>w4</th>\n",
       "      <td>0.004492</td>\n",
       "    </tr>\n",
       "    <tr>\n",
       "      <th>w5</th>\n",
       "      <td>0.002968</td>\n",
       "    </tr>\n",
       "    <tr>\n",
       "      <th>w6</th>\n",
       "      <td>0.004739</td>\n",
       "    </tr>\n",
       "  </tbody>\n",
       "</table>\n",
       "</div>"
      ],
      "text/plain": [
       "           0\n",
       "w1  0.005758\n",
       "w2  0.008976\n",
       "w3  0.002472\n",
       "w4  0.004492\n",
       "w5  0.002968\n",
       "w6  0.004739"
      ]
     },
     "execution_count": 84,
     "metadata": {},
     "output_type": "execute_result"
    }
   ],
   "source": [
    "df_crit = maximum_expected_utility(df_profit)\n",
    "df_crit"
   ]
  },
  {
   "cell_type": "markdown",
   "id": "38ad7e6e",
   "metadata": {},
   "source": [
    "###  10.1.6 Критерий максимина вальда"
   ]
  },
  {
   "cell_type": "code",
   "execution_count": 85,
   "id": "92a5c5e1",
   "metadata": {
    "ExecuteTime": {
     "end_time": "2021-12-23T12:44:20.387520Z",
     "start_time": "2021-12-23T12:44:20.371829Z"
    }
   },
   "outputs": [
    {
     "data": {
      "text/plain": [
       "[0.0034529418604698037,\n",
       " 0.006088731300677753,\n",
       " 0.0016263721504950123,\n",
       " 0.0023871878513775095,\n",
       " 0.0017797382918465577,\n",
       " 0.003375993435350362]"
      ]
     },
     "execution_count": 85,
     "metadata": {},
     "output_type": "execute_result"
    }
   ],
   "source": [
    "mins = wald_criterion(df_profit)\n",
    "mins"
   ]
  },
  {
   "cell_type": "code",
   "execution_count": 86,
   "id": "76c7db5e",
   "metadata": {
    "ExecuteTime": {
     "end_time": "2021-12-23T12:44:27.060064Z",
     "start_time": "2021-12-23T12:44:27.046066Z"
    }
   },
   "outputs": [
    {
     "data": {
      "text/plain": [
       "0.006088731300677753"
      ]
     },
     "execution_count": 86,
     "metadata": {},
     "output_type": "execute_result"
    }
   ],
   "source": [
    "max(mins)"
   ]
  },
  {
   "cell_type": "code",
   "execution_count": null,
   "id": "45f48981",
   "metadata": {},
   "outputs": [],
   "source": []
  }
 ],
 "metadata": {
  "kernelspec": {
   "display_name": "Python 3",
   "language": "python",
   "name": "python3"
  },
  "language_info": {
   "codemirror_mode": {
    "name": "ipython",
    "version": 3
   },
   "file_extension": ".py",
   "mimetype": "text/x-python",
   "name": "python",
   "nbconvert_exporter": "python",
   "pygments_lexer": "ipython3",
   "version": "3.8.8"
  },
  "toc": {
   "base_numbering": 1,
   "nav_menu": {},
   "number_sections": true,
   "sideBar": true,
   "skip_h1_title": false,
   "title_cell": "Table of Contents",
   "title_sidebar": "Contents",
   "toc_cell": false,
   "toc_position": {
    "height": "calc(100% - 180px)",
    "left": "10px",
    "top": "150px",
    "width": "263.705px"
   },
   "toc_section_display": true,
   "toc_window_display": true
  }
 },
 "nbformat": 4,
 "nbformat_minor": 5
}
